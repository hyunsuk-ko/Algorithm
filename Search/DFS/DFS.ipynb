{
 "cells": [
  {
   "cell_type": "code",
   "execution_count": 1,
   "metadata": {},
   "outputs": [],
   "source": [
    "# DFS uses stack\n",
    "def dfs(graph, v, visited):\n",
    "    # current node is visited\n",
    "    visited[v] = True\n",
    "    print(v, end = ' ')\n",
    "    \n",
    "    # recursively visit children of the current node\n",
    "    for i in graph[v]:\n",
    "        if not visited[i]:\n",
    "            dfs(graph, i, visited)"
   ]
  },
  {
   "cell_type": "code",
   "execution_count": 2,
   "metadata": {},
   "outputs": [
    {
     "name": "stdout",
     "output_type": "stream",
     "text": [
      "1 2 7 6 8 3 4 5 "
     ]
    }
   ],
   "source": [
    "# each list should be sorted -> visit lower order node first\n",
    "graph = [[], [2,3,8], [1,7], [1,4,5], [3,5], [3,4], [7], [2,6,8], [1,7]] \n",
    "visited = [False] * 9\n",
    "dfs(graph, 1, visited)"
   ]
  },
  {
   "cell_type": "markdown",
   "metadata": {},
   "source": [
    "### LeetCode 98: Validate Binary Search Tree\n",
    "https://leetcode.com/problems/validate-binary-search-tree/description/?envType=study-plan&id=level-1"
   ]
  },
  {
   "cell_type": "code",
   "execution_count": 3,
   "metadata": {},
   "outputs": [],
   "source": [
    "class TreeNode:\n",
    "    def __init__(self, x):\n",
    "        self.val = x\n",
    "        self.left = None\n",
    "        self.right = None"
   ]
  },
  {
   "cell_type": "code",
   "execution_count": 8,
   "metadata": {},
   "outputs": [],
   "source": [
    "import math\n",
    "\n",
    "def isValidBST(root):\n",
    "    def validate(node, lower_bound = -math.inf, upper_bound = math.inf):\n",
    "        # DFS\n",
    "        if not node:\n",
    "            return True\n",
    "        \n",
    "        # The key idea is to set lower bound and upper bound\n",
    "        # and then keep updating.\n",
    "        if node.val <= lower_bound or node.val >= upper_bound:\n",
    "            return False\n",
    "\n",
    "        return (validate(node.left, lower_bound, node.val) and validate(node.right, node.val, upper_bound))\n",
    "    return validate(root)"
   ]
  },
  {
   "cell_type": "code",
   "execution_count": 9,
   "metadata": {},
   "outputs": [
    {
     "data": {
      "text/plain": [
       "True"
      ]
     },
     "execution_count": 9,
     "metadata": {},
     "output_type": "execute_result"
    }
   ],
   "source": [
    "tree = TreeNode(2)\n",
    "tree.left = TreeNode(1)\n",
    "tree.right = TreeNode(3)\n",
    "isValidBST(tree)"
   ]
  },
  {
   "cell_type": "code",
   "execution_count": 10,
   "metadata": {},
   "outputs": [
    {
     "data": {
      "text/plain": [
       "True"
      ]
     },
     "execution_count": 10,
     "metadata": {},
     "output_type": "execute_result"
    }
   ],
   "source": [
    "tree = TreeNode(2)\n",
    "tree.left = TreeNode(1)\n",
    "tree.right = TreeNode(3)\n",
    "isValidBST(tree)"
   ]
  },
  {
   "cell_type": "code",
   "execution_count": 11,
   "metadata": {},
   "outputs": [
    {
     "data": {
      "text/plain": [
       "False"
      ]
     },
     "execution_count": 11,
     "metadata": {},
     "output_type": "execute_result"
    }
   ],
   "source": [
    "tree = TreeNode(5)\n",
    "tree.left = TreeNode(1)\n",
    "tree.right = TreeNode(4)\n",
    "tree.right.left = TreeNode(3)\n",
    "tree.right.right = TreeNode(6)\n",
    "isValidBST(tree)"
   ]
  },
  {
   "cell_type": "markdown",
   "metadata": {},
   "source": [
    "### LeetCode 235: Lowest Common Ancestor\n",
    "https://leetcode.com/problems/lowest-common-ancestor-of-a-binary-search-tree/?envType=study-plan&id=level-1"
   ]
  },
  {
   "cell_type": "code",
   "execution_count": 12,
   "metadata": {},
   "outputs": [],
   "source": [
    "def lowestCommonAncestor(root, p, q):\n",
    "    parent_val = root.val\n",
    "    p_val = p.val\n",
    "    q_val = q.val\n",
    "    \n",
    "    # if both values are lesser than parent value\n",
    "    # we only iterate through the left subtree\n",
    "    if p_val < parent_val and q_val < parent_val:\n",
    "        return lowestCommonAncestor(root.left, p, q)\n",
    "    \n",
    "    # if both values are greater than parent value\n",
    "    # we only iterate through the right subtree   \n",
    "    elif p_val > parent_val and q_val > parent_val:\n",
    "        return lowestCommonAncestor(root.right, p, q)\n",
    "    \n",
    "    # otherwise, the common ancestor is the root node.\n",
    "    else:\n",
    "        return root.val"
   ]
  },
  {
   "cell_type": "code",
   "execution_count": 13,
   "metadata": {},
   "outputs": [
    {
     "data": {
      "text/plain": [
       "6"
      ]
     },
     "execution_count": 13,
     "metadata": {},
     "output_type": "execute_result"
    }
   ],
   "source": [
    "tree = TreeNode(6)\n",
    "tree.left = TreeNode(2)\n",
    "tree.right = TreeNode(8)\n",
    "tree.left.left = TreeNode(0)\n",
    "tree.left.right = TreeNode(4)\n",
    "tree.right.left = TreeNode(3)\n",
    "tree.right.right = TreeNode(5)\n",
    "tree.right.left = TreeNode(7)\n",
    "tree.right.right = TreeNode(9)\n",
    "\n",
    "lowestCommonAncestor(tree, tree.left, tree.right)"
   ]
  },
  {
   "cell_type": "code",
   "execution_count": 14,
   "metadata": {},
   "outputs": [
    {
     "data": {
      "text/plain": [
       "2"
      ]
     },
     "execution_count": 14,
     "metadata": {},
     "output_type": "execute_result"
    }
   ],
   "source": [
    "tree = TreeNode(6)\n",
    "tree.left = TreeNode(2) #\n",
    "tree.right = TreeNode(8)\n",
    "tree.left.left = TreeNode(0)\n",
    "tree.left.right = TreeNode(4) #\n",
    "tree.right.left = TreeNode(3)\n",
    "tree.right.right = TreeNode(5)\n",
    "tree.right.left = TreeNode(7)\n",
    "tree.right.right = TreeNode(9)\n",
    "\n",
    "lowestCommonAncestor(tree, tree.left, tree.left.right)"
   ]
  },
  {
   "cell_type": "code",
   "execution_count": 15,
   "metadata": {},
   "outputs": [
    {
     "data": {
      "text/plain": [
       "2"
      ]
     },
     "execution_count": 15,
     "metadata": {},
     "output_type": "execute_result"
    }
   ],
   "source": [
    "tree = TreeNode(2)\n",
    "tree.left = TreeNode(1) #\n",
    "\n",
    "lowestCommonAncestor(tree, tree, tree.left)"
   ]
  },
  {
   "cell_type": "markdown",
   "metadata": {},
   "source": [
    "### LeetCode 617: Merge Two Binary Trees\n",
    "https://leetcode.com/problems/merge-two-binary-trees/"
   ]
  },
  {
   "cell_type": "code",
   "execution_count": 16,
   "metadata": {},
   "outputs": [],
   "source": [
    "def mergeTrees(t1, t2):\n",
    "    if not t1:\n",
    "        return t2\n",
    "    elif not t2:\n",
    "        return t1\n",
    "    else:\n",
    "        tree = TreeNode(t1.val + t2.val)\n",
    "        tree.left = mergeTrees(t1.left, t2.left)\n",
    "        tree.right = mergeTrees(t2.left, t2.right)\n",
    "    return tree"
   ]
  },
  {
   "cell_type": "code",
   "execution_count": 17,
   "metadata": {},
   "outputs": [],
   "source": [
    "t1 = TreeNode(1)\n",
    "t1.left = TreeNode(3)\n",
    "t1.right = TreeNode(2)\n",
    "t1.left.left = TreeNode(5)\n",
    "\n",
    "t2 = TreeNode(2)\n",
    "t2.left = TreeNode(1)\n",
    "t2.right = TreeNode(3)\n",
    "t2.left.right = TreeNode(4)\n",
    "t2.right.right = TreeNode(7)"
   ]
  },
  {
   "cell_type": "code",
   "execution_count": 18,
   "metadata": {},
   "outputs": [
    {
     "data": {
      "text/plain": [
       "<__main__.TreeNode at 0x7f6f6c7c9a60>"
      ]
     },
     "execution_count": 18,
     "metadata": {},
     "output_type": "execute_result"
    }
   ],
   "source": [
    "mergeTrees(t1, t2)"
   ]
  },
  {
   "cell_type": "markdown",
   "metadata": {},
   "source": [
    "### LeetCode 226: Invert Binary Tree\n",
    "https://leetcode.com/problems/invert-binary-tree/description/"
   ]
  },
  {
   "cell_type": "code",
   "execution_count": 19,
   "metadata": {},
   "outputs": [],
   "source": [
    "def invertTree(root):\n",
    "    if not root:\n",
    "        return root\n",
    "    \n",
    "    right_temp = invertTree(root.right)\n",
    "    left_temp = invertTree(root.left)\n",
    "    root.right = left_temp\n",
    "    root.left = left_temp\n",
    "    \n",
    "    return root"
   ]
  },
  {
   "cell_type": "code",
   "execution_count": 20,
   "metadata": {},
   "outputs": [
    {
     "data": {
      "text/plain": [
       "<__main__.TreeNode at 0x7f6f6c716b80>"
      ]
     },
     "execution_count": 20,
     "metadata": {},
     "output_type": "execute_result"
    }
   ],
   "source": [
    "root = TreeNode(4)\n",
    "root.left = TreeNode(2)\n",
    "root.right = TreeNode(7)\n",
    "root.left.left = TreeNode(1)\n",
    "root.left.right = TreeNode(3)\n",
    "root.right.left = TreeNode(6)\n",
    "root.right.right = TreeNode(9)\n",
    "invertTree(root)"
   ]
  },
  {
   "cell_type": "code",
   "execution_count": 21,
   "metadata": {},
   "outputs": [
    {
     "data": {
      "text/plain": [
       "<__main__.TreeNode at 0x7f6f6c7a9280>"
      ]
     },
     "execution_count": 21,
     "metadata": {},
     "output_type": "execute_result"
    }
   ],
   "source": [
    "root = TreeNode(2)\n",
    "root.left = TreeNode(1)\n",
    "root.right = TreeNode(3)\n",
    "invertTree(root)"
   ]
  },
  {
   "cell_type": "markdown",
   "metadata": {},
   "source": [
    "### LeetCode 104: Maximum Depth of Binary Tree\n",
    "https://leetcode.com/problems/maximum-depth-of-binary-tree/"
   ]
  },
  {
   "cell_type": "code",
   "execution_count": 22,
   "metadata": {},
   "outputs": [],
   "source": [
    "def maxDepth(root):\n",
    "    if not root:\n",
    "        return 0\n",
    "    if not root.left and not root.right:\n",
    "        return 1\n",
    "    \n",
    "    left_count = 1 + maxDepth(root.left)\n",
    "    right_count = 1 + maxDepth(root.right)\n",
    "    \n",
    "    return max(left_count, right_count)"
   ]
  },
  {
   "cell_type": "code",
   "execution_count": 24,
   "metadata": {},
   "outputs": [
    {
     "data": {
      "text/plain": [
       "3"
      ]
     },
     "execution_count": 24,
     "metadata": {},
     "output_type": "execute_result"
    }
   ],
   "source": [
    "root = TreeNode(3)\n",
    "root.left = TreeNode(9)\n",
    "root.right = TreeNode(20)\n",
    "root.right.left = TreeNode(15)\n",
    "root.right.right = TreeNode(7)\n",
    "maxDepth(root)"
   ]
  },
  {
   "cell_type": "code",
   "execution_count": 25,
   "metadata": {},
   "outputs": [
    {
     "data": {
      "text/plain": [
       "2"
      ]
     },
     "execution_count": 25,
     "metadata": {},
     "output_type": "execute_result"
    }
   ],
   "source": [
    "root = TreeNode(1)\n",
    "root.left = TreeNode(2)\n",
    "maxDepth(root)"
   ]
  },
  {
   "cell_type": "markdown",
   "metadata": {},
   "source": [
    "### LeetCode 938: Range Sum of BST\n",
    "https://leetcode.com/problems/range-sum-of-bst/"
   ]
  },
  {
   "cell_type": "code",
   "execution_count": 51,
   "metadata": {},
   "outputs": [],
   "source": [
    "def rangeSumBST(root, low, high):\n",
    "    def dfs(root, low, high):\n",
    "        global count\n",
    "        if not root:\n",
    "            return count\n",
    "\n",
    "        print(\"Curr val:\", root.val)\n",
    "        print(\"Low:\", low)\n",
    "        print(\"High:\", high)       \n",
    "        print()\n",
    "\n",
    "        if low <= root.val and root.val <= high:\n",
    "            count += root.val\n",
    "            print(\"Count:\", count)\n",
    "            print()\n",
    "            rangeSumBST(root.left, low, high)\n",
    "            rangeSumBST(root.right, low, high)\n",
    "            return count\n",
    "\n",
    "        elif root.val < low:\n",
    "            rangeSumBST(root.right, low, high)\n",
    "\n",
    "        elif root.val > high:\n",
    "            rangeSumBST(root.left, low, high)\n",
    "\n",
    "    count = 0\n",
    "    dfs(root, low, high)\n",
    "    return count"
   ]
  },
  {
   "cell_type": "code",
   "execution_count": 52,
   "metadata": {},
   "outputs": [
    {
     "name": "stdout",
     "output_type": "stream",
     "text": [
      "Curr val: 10\n",
      "Low: 7\n",
      "High: 15\n",
      "\n",
      "Count: 10\n",
      "\n",
      "Curr val: 5\n",
      "Low: 7\n",
      "High: 15\n",
      "\n",
      "Curr val: 7\n",
      "Low: 7\n",
      "High: 15\n",
      "\n",
      "Count: 17\n",
      "\n",
      "Curr val: 15\n",
      "Low: 7\n",
      "High: 15\n",
      "\n",
      "Count: 32\n",
      "\n",
      "Curr val: 18\n",
      "Low: 7\n",
      "High: 15\n",
      "\n"
     ]
    },
    {
     "data": {
      "text/plain": [
       "0"
      ]
     },
     "execution_count": 52,
     "metadata": {},
     "output_type": "execute_result"
    }
   ],
   "source": [
    "root = TreeNode(10)\n",
    "root.left = TreeNode(5)\n",
    "root.right = TreeNode(15)\n",
    "root.left.left = TreeNode(3)\n",
    "root.left.right = TreeNode(7)\n",
    "root.right.right = TreeNode(18)\n",
    "rangeSumBST(root, 7, 15)"
   ]
  },
  {
   "cell_type": "markdown",
   "metadata": {},
   "source": [
    "### LeetCode 94: Binary Tree Inorder Traversal\n",
    "https://leetcode.com/problems/binary-tree-inorder-traversal/"
   ]
  },
  {
   "cell_type": "code",
   "execution_count": 37,
   "metadata": {},
   "outputs": [],
   "source": [
    "def inorderTraversal(root):\n",
    "    result = []\n",
    "    def dfs(root):\n",
    "        if not root:\n",
    "            return result\n",
    "        \n",
    "        dfs(root.left)\n",
    "        result.append(root.val)\n",
    "        dfs(root.right)\n",
    "        \n",
    "    dfs(root)\n",
    "    \n",
    "    return result"
   ]
  },
  {
   "cell_type": "code",
   "execution_count": 38,
   "metadata": {},
   "outputs": [
    {
     "data": {
      "text/plain": [
       "[1, 3, 2]"
      ]
     },
     "execution_count": 38,
     "metadata": {},
     "output_type": "execute_result"
    }
   ],
   "source": [
    "root = TreeNode(1)\n",
    "root.right = TreeNode(2)\n",
    "root.right.left = TreeNode(3)\n",
    "inorderTraversal(root)"
   ]
  },
  {
   "cell_type": "code",
   "execution_count": 39,
   "metadata": {},
   "outputs": [
    {
     "data": {
      "text/plain": [
       "[1]"
      ]
     },
     "execution_count": 39,
     "metadata": {},
     "output_type": "execute_result"
    }
   ],
   "source": [
    "root = TreeNode(1)\n",
    "inorderTraversal(root)"
   ]
  },
  {
   "cell_type": "markdown",
   "metadata": {},
   "source": [
    "### LeetCode 872: Leaf-Similar Trees\n",
    "https://leetcode.com/problems/leaf-similar-trees/"
   ]
  },
  {
   "cell_type": "code",
   "execution_count": 40,
   "metadata": {},
   "outputs": [],
   "source": [
    "def leafSimilar(root1, root2):\n",
    "    def dfs(root):\n",
    "        if not root:\n",
    "            return []\n",
    "        \n",
    "        if not root.left and not root.right:\n",
    "            return [root.val]\n",
    "        \n",
    "        return dfs(root.left) + dfs(root.right)\n",
    "    \n",
    "    return dfs(root1) == dfs(root2)"
   ]
  },
  {
   "cell_type": "code",
   "execution_count": 41,
   "metadata": {},
   "outputs": [],
   "source": [
    "root1 = TreeNode(3)\n",
    "root1.left = TreeNode(5)\n",
    "root1.right = TreeNode(1)\n",
    "root1.left.left = TreeNode(6)\n",
    "root1.left.right = TreeNode(2)\n",
    "root1.right.left = TreeNode(9)\n",
    "root1.right.right = TreeNode(8)\n",
    "root1.left.right = TreeNode(2)\n",
    "root1.left.right.left = TreeNode(7)\n",
    "root1.left.right.right = TreeNode(4)"
   ]
  },
  {
   "cell_type": "code",
   "execution_count": 42,
   "metadata": {},
   "outputs": [],
   "source": [
    "root2 = TreeNode(3)\n",
    "root2.left = TreeNode(5)\n",
    "root2.right = TreeNode(1)\n",
    "root2.left.left = TreeNode(6)\n",
    "root2.left.right = TreeNode(7)\n",
    "root2.right.left = TreeNode(4)\n",
    "root2.right.right = TreeNode(2)\n",
    "root2.right.right.left = TreeNode(9)\n",
    "root2.right.right.right = TreeNode(8)"
   ]
  },
  {
   "cell_type": "code",
   "execution_count": 43,
   "metadata": {},
   "outputs": [
    {
     "data": {
      "text/plain": [
       "True"
      ]
     },
     "execution_count": 43,
     "metadata": {},
     "output_type": "execute_result"
    }
   ],
   "source": [
    "leafSimilar(root1, root2)"
   ]
  },
  {
   "cell_type": "code",
   "execution_count": 44,
   "metadata": {},
   "outputs": [],
   "source": [
    "root1 = TreeNode(1)\n",
    "root1.left = TreeNode(2)\n",
    "root1.right = TreeNode(3)"
   ]
  },
  {
   "cell_type": "code",
   "execution_count": 45,
   "metadata": {},
   "outputs": [],
   "source": [
    "root2 = TreeNode(1)\n",
    "root2.left = TreeNode(3)\n",
    "root2.right = TreeNode(2)"
   ]
  },
  {
   "cell_type": "code",
   "execution_count": 46,
   "metadata": {},
   "outputs": [
    {
     "data": {
      "text/plain": [
       "False"
      ]
     },
     "execution_count": 46,
     "metadata": {},
     "output_type": "execute_result"
    }
   ],
   "source": [
    "leafSimilar(root1, root2)"
   ]
  },
  {
   "cell_type": "markdown",
   "metadata": {},
   "source": [
    "### LeetCode 108: Convert Sorted Array to Binary Search Tree\n",
    "https://leetcode.com/problems/convert-sorted-array-to-binary-search-tree/"
   ]
  },
  {
   "cell_type": "code",
   "execution_count": 2,
   "metadata": {},
   "outputs": [],
   "source": [
    "def sortedArrayToBST(nums):\n",
    "    def createBST(nums, start, end):\n",
    "        if start > end:\n",
    "            return None\n",
    "        \n",
    "        mid = (start + end) // 2\n",
    "        root = TreeNode(nums[mid])\n",
    "        root.left = createBST(nums, start, mid-1)\n",
    "        root.right = createBST(nums, mid+1, end)\n",
    "        \n",
    "        return root\n",
    "    \n",
    "    return createBST(nums, 0, len(nums)-1)"
   ]
  },
  {
   "cell_type": "code",
   "execution_count": 3,
   "metadata": {},
   "outputs": [
    {
     "data": {
      "text/plain": [
       "<__main__.TreeNode at 0x7fcdf0368970>"
      ]
     },
     "execution_count": 3,
     "metadata": {},
     "output_type": "execute_result"
    }
   ],
   "source": [
    "nums = [-10,-3,0,5,9]\n",
    "sortedArrayToBST(nums)"
   ]
  },
  {
   "cell_type": "code",
   "execution_count": 4,
   "metadata": {},
   "outputs": [
    {
     "data": {
      "text/plain": [
       "<__main__.TreeNode at 0x7fcdf034d970>"
      ]
     },
     "execution_count": 4,
     "metadata": {},
     "output_type": "execute_result"
    }
   ],
   "source": [
    "nums = [1,3]\n",
    "sortedArrayToBST(nums)"
   ]
  },
  {
   "cell_type": "markdown",
   "metadata": {},
   "source": [
    "### LeetCode 897: Increasing Order Binary Search Tree\n",
    "https://leetcode.com/problems/increasing-order-search-tree/"
   ]
  },
  {
   "cell_type": "code",
   "execution_count": 1,
   "metadata": {},
   "outputs": [],
   "source": [
    "class Solution:\n",
    "    def __init__(self, root):\n",
    "        self.root = root\n",
    "    \n",
    "    def increasingBST(self, root):\n",
    "        if not root:\n",
    "            return None\n",
    "        ans = self.curr = TreeNode(0)\n",
    "\n",
    "        def inorder(node):\n",
    "            if node:\n",
    "                inorder(node.left)\n",
    "\n",
    "                self.curr.right = TreeNode(node.val)\n",
    "                self.curr = self.curr.right\n",
    "                print(self.curr.val)\n",
    "\n",
    "                if node.right:\n",
    "                    inorder(node.right)\n",
    "        inorder(root)\n",
    "        return ans.right"
   ]
  },
  {
   "cell_type": "code",
   "execution_count": 4,
   "metadata": {},
   "outputs": [
    {
     "name": "stdout",
     "output_type": "stream",
     "text": [
      "1\n",
      "5\n",
      "7\n"
     ]
    },
    {
     "data": {
      "text/plain": [
       "<__main__.TreeNode at 0x7f968807ce80>"
      ]
     },
     "execution_count": 4,
     "metadata": {},
     "output_type": "execute_result"
    }
   ],
   "source": [
    "root = TreeNode(5)\n",
    "root.left = TreeNode(1)\n",
    "root.right = TreeNode(7)\n",
    "\n",
    "sol = Solution(root)\n",
    "sol.increasingBST(root)"
   ]
  },
  {
   "cell_type": "code",
   "execution_count": 5,
   "metadata": {},
   "outputs": [
    {
     "name": "stdout",
     "output_type": "stream",
     "text": [
      "1\n",
      "2\n",
      "3\n",
      "4\n",
      "5\n",
      "6\n",
      "7\n",
      "8\n",
      "9\n"
     ]
    },
    {
     "data": {
      "text/plain": [
       "<__main__.TreeNode at 0x7f967afab8b0>"
      ]
     },
     "execution_count": 5,
     "metadata": {},
     "output_type": "execute_result"
    }
   ],
   "source": [
    "root = TreeNode(5)\n",
    "root.left = TreeNode(3)\n",
    "root.right = TreeNode(6)\n",
    "root.left.left = TreeNode(2)\n",
    "root.left.right = TreeNode(4)\n",
    "root.right.right = TreeNode(8)\n",
    "root.right.right.left = TreeNode(7)\n",
    "root.right.right.right = TreeNode(9)\n",
    "root.left.left.left = TreeNode(1)\n",
    "\n",
    "sol = Solution(root)\n",
    "sol.increasingBST(root)"
   ]
  },
  {
   "cell_type": "markdown",
   "metadata": {},
   "source": [
    "### LeetCode 897: Search in a Binary Search Tree\n",
    "https://leetcode.com/problems/search-in-a-binary-search-tree/description/"
   ]
  },
  {
   "cell_type": "code",
   "execution_count": 13,
   "metadata": {},
   "outputs": [],
   "source": [
    "def searchBST(root, val):\n",
    "    if not root:\n",
    "        return None\n",
    "    \n",
    "    def dfs(root,val):\n",
    "        if root.val == val:\n",
    "            print(\"TRUE\")\n",
    "            return root\n",
    "        elif root.val > val and root.left:\n",
    "            return dfs(root.left, val)\n",
    "        elif root.val < val and root.right:\n",
    "            return dfs(root.right, val)\n",
    "        print(\"FALSE\")\n",
    "        \n",
    "    return dfs(root,val)"
   ]
  },
  {
   "cell_type": "code",
   "execution_count": 14,
   "metadata": {},
   "outputs": [
    {
     "name": "stdout",
     "output_type": "stream",
     "text": [
      "TRUE\n"
     ]
    },
    {
     "data": {
      "text/plain": [
       "<__main__.TreeNode at 0x7f9688067610>"
      ]
     },
     "execution_count": 14,
     "metadata": {},
     "output_type": "execute_result"
    }
   ],
   "source": [
    "root = TreeNode(4)\n",
    "root.left = TreeNode(2)\n",
    "root.right = TreeNode(7)\n",
    "root.left.left = TreeNode(1)\n",
    "root.left.right = TreeNode(3)\n",
    "\n",
    "searchBST(root, 2)"
   ]
  },
  {
   "cell_type": "code",
   "execution_count": 15,
   "metadata": {},
   "outputs": [
    {
     "name": "stdout",
     "output_type": "stream",
     "text": [
      "FALSE\n"
     ]
    }
   ],
   "source": [
    "root = TreeNode(4)\n",
    "root.left = TreeNode(2)\n",
    "root.right = TreeNode(7)\n",
    "root.left.left = TreeNode(1)\n",
    "root.left.right = TreeNode(3)\n",
    "\n",
    "searchBST(root, 5)"
   ]
  },
  {
   "cell_type": "code",
   "execution_count": null,
   "metadata": {},
   "outputs": [],
   "source": []
  }
 ],
 "metadata": {
  "kernelspec": {
   "display_name": "Python 3",
   "language": "python",
   "name": "python3"
  },
  "language_info": {
   "codemirror_mode": {
    "name": "ipython",
    "version": 3
   },
   "file_extension": ".py",
   "mimetype": "text/x-python",
   "name": "python",
   "nbconvert_exporter": "python",
   "pygments_lexer": "ipython3",
   "version": "3.8.8"
  }
 },
 "nbformat": 4,
 "nbformat_minor": 4
}
