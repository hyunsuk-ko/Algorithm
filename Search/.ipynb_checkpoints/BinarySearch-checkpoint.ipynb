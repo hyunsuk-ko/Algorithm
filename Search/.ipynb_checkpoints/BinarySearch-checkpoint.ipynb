{
 "cells": [
  {
   "cell_type": "code",
   "execution_count": 1,
   "metadata": {},
   "outputs": [],
   "source": [
    "def merge_sort(A):\n",
    "    if len(A) <= 1: # BASE CASE\n",
    "        return A\n",
    "    mid = len(A) // 2\n",
    "    left_list = A[:mid]\n",
    "    right_list = A[mid:]\n",
    "    left_list = merge_sort(left_list)\n",
    "    right_list = merge_sort(right_list)\n",
    "    \n",
    "    return merge(left_list, right_list)\n",
    "\n",
    "def merge(left, right):\n",
    "    result = []\n",
    "    while len(left) > 0 or len(right) > 0:\n",
    "        if len(left) > 0 and len(right) > 0:\n",
    "            if left[0] <= right[0]:\n",
    "                result.append(left[0])\n",
    "                left = left[1:]\n",
    "            else:\n",
    "                result.append(right[0])\n",
    "                right = right[1:]\n",
    "        elif len(left) > 0:\n",
    "            result.append(left[0])\n",
    "            left = left[1:]\n",
    "        else:\n",
    "            result.append(right[0])\n",
    "            right = right[1:]\n",
    "    return result"
   ]
  },
  {
   "cell_type": "code",
   "execution_count": 2,
   "metadata": {},
   "outputs": [
    {
     "data": {
      "text/plain": [
       "True"
      ]
     },
     "execution_count": 2,
     "metadata": {},
     "output_type": "execute_result"
    }
   ],
   "source": [
    "def binary_search(array, target):\n",
    "    array = merge_sort(array)\n",
    "    has_value = False\n",
    "    while len(array) != 1:\n",
    "        mid = len(array) // 2\n",
    "        if array[mid] == target:\n",
    "            has_value = True\n",
    "            return has_value\n",
    "        elif target < array[mid]:\n",
    "            array = array[:mid]\n",
    "        else:\n",
    "            array = array[mid:]\n",
    "    return has_value\n",
    "\n",
    "binary_search([5,1,2406,1,9,444,7,1],9)"
   ]
  },
  {
   "cell_type": "code",
   "execution_count": 10,
   "metadata": {},
   "outputs": [
    {
     "name": "stdout",
     "output_type": "stream",
     "text": [
      "[1, 2, 5, 7, 9, 12, 444, 2406]\n"
     ]
    },
    {
     "data": {
      "text/plain": [
       "2"
      ]
     },
     "execution_count": 10,
     "metadata": {},
     "output_type": "execute_result"
    }
   ],
   "source": [
    "def binary_search(array, target):\n",
    "    left = 0\n",
    "    right = len(array) - 1\n",
    "    while left <= right:\n",
    "        mid = (left + right) // 2\n",
    "        if array[mid] == target:\n",
    "            return mid\n",
    "        elif target < array[mid]:\n",
    "            right = mid - 1\n",
    "        else:\n",
    "            left = mid + 1\n",
    "    return -1\n",
    "\n",
    "array = merge_sort([5,1,2406,2,9,444,7,12])\n",
    "print(array)\n",
    "binary_search(array, 5)"
   ]
  },
  {
   "cell_type": "code",
   "execution_count": null,
   "metadata": {},
   "outputs": [],
   "source": []
  }
 ],
 "metadata": {
  "kernelspec": {
   "display_name": "Python 3",
   "language": "python",
   "name": "python3"
  },
  "language_info": {
   "codemirror_mode": {
    "name": "ipython",
    "version": 3
   },
   "file_extension": ".py",
   "mimetype": "text/x-python",
   "name": "python",
   "nbconvert_exporter": "python",
   "pygments_lexer": "ipython3",
   "version": "3.8.8"
  }
 },
 "nbformat": 4,
 "nbformat_minor": 4
}
