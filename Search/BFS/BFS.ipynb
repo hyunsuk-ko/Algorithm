{
 "cells": [
  {
   "cell_type": "code",
   "execution_count": 2,
   "metadata": {},
   "outputs": [],
   "source": [
    "class TreeNode:\n",
    "    def __init__(self, val=0, left=None, right=None):\n",
    "        self.val = val\n",
    "        self.left = left\n",
    "        self.right = right"
   ]
  },
  {
   "cell_type": "code",
   "execution_count": 1,
   "metadata": {},
   "outputs": [],
   "source": [
    "from collections import deque\n",
    "\n",
    "def bfs(graph, start, visited):\n",
    "    # Use deque to implement queue\n",
    "    queue = deque([start])\n",
    "    # current node is visited\n",
    "    visited[start] = True\n",
    "    \n",
    "    # loop until queue is empty\n",
    "    while queue:\n",
    "        # pick element up from the left\n",
    "        v = queue.popleft()\n",
    "        print(v, end =' ')\n",
    "        \n",
    "        # insert unvisited node to the queue\n",
    "        for i in graph[v]:\n",
    "            if not visited[i]:\n",
    "                queue.append(i)\n",
    "                visited[i] = True"
   ]
  },
  {
   "cell_type": "code",
   "execution_count": 3,
   "metadata": {},
   "outputs": [
    {
     "name": "stdout",
     "output_type": "stream",
     "text": [
      "1 2 3 8 7 4 5 6 "
     ]
    }
   ],
   "source": [
    "# each list should be sorted -> visit lower order node first\n",
    "graph = [[], [2,3,8], [1,7], [1,4,5], [3,5], [3,4], [7], [2,6,8], [1,7]] \n",
    "visited = [False] * 9\n",
    "bfs(graph, 1, visited)"
   ]
  },
  {
   "cell_type": "markdown",
   "metadata": {},
   "source": [
    "## LeetCode 100: Same tree\n",
    "\n",
    "https://leetcode.com/problems/same-tree/"
   ]
  },
  {
   "cell_type": "code",
   "execution_count": 7,
   "metadata": {},
   "outputs": [],
   "source": [
    "from collections import deque\n",
    "\n",
    "def isSameTree(p, q):\n",
    "    if not p and not q:\n",
    "        return True\n",
    "    \n",
    "    elif p and not q:\n",
    "        return False\n",
    "    \n",
    "    elif not p and q:\n",
    "        return False\n",
    "    \n",
    "    queue = deque([p,q])\n",
    "    \n",
    "    while queue:\n",
    "        t1, t2 = queue.popleft(), queue.popleft()\n",
    "        \n",
    "        if not t1 and not t2:\n",
    "            continue\n",
    "            \n",
    "        if (not t1) or (not t2):\n",
    "            return False\n",
    "        \n",
    "        if t1.val != t2.val:\n",
    "            return False\n",
    "        \n",
    "        queue.append(t1.left)\n",
    "        queue.append(t2.left)\n",
    "        queue.append(t1.right)\n",
    "        queue.append(t2.right)\n",
    "        \n",
    "    return True"
   ]
  },
  {
   "cell_type": "code",
   "execution_count": 8,
   "metadata": {},
   "outputs": [
    {
     "data": {
      "text/plain": [
       "True"
      ]
     },
     "execution_count": 8,
     "metadata": {},
     "output_type": "execute_result"
    }
   ],
   "source": [
    "p = TreeNode(1)\n",
    "p.left = TreeNode(2)\n",
    "p.right = TreeNode(3)\n",
    "\n",
    "q = TreeNode(1)\n",
    "q.left = TreeNode(2)\n",
    "q.right = TreeNode(3)\n",
    "\n",
    "isSameTree(p, q)"
   ]
  },
  {
   "cell_type": "code",
   "execution_count": 9,
   "metadata": {},
   "outputs": [
    {
     "data": {
      "text/plain": [
       "False"
      ]
     },
     "execution_count": 9,
     "metadata": {},
     "output_type": "execute_result"
    }
   ],
   "source": [
    "p = TreeNode(1)\n",
    "p.left = TreeNode(2)\n",
    "\n",
    "q = TreeNode(1)\n",
    "q.right = TreeNode(2)\n",
    "\n",
    "isSameTree(p, q)"
   ]
  },
  {
   "cell_type": "markdown",
   "metadata": {},
   "source": [
    "## LeetCode 101: Symmetric tree\n",
    "\n",
    "https://leetcode.com/problems/symmetric-tree/submissions/894767747/"
   ]
  },
  {
   "cell_type": "code",
   "execution_count": 3,
   "metadata": {},
   "outputs": [],
   "source": [
    "from collections import deque\n",
    "\n",
    "def isSymmetric(root):\n",
    "    if not root:\n",
    "        return True\n",
    "    \n",
    "    queue = deque([root.left, root.right])\n",
    "    \n",
    "    while queue:\n",
    "        t1, t2 = queue.popleft(), queue.popleft()\n",
    "        \n",
    "        if (t1 == None) and (t2 == None):\n",
    "            continue\n",
    "            \n",
    "        if (t1 == None) or (t2 == None):\n",
    "            return False\n",
    "        \n",
    "        if t1.val != t2.val:\n",
    "            return False\n",
    "        \n",
    "        queue.append(t1.left)\n",
    "        queue.append(t2.right)\n",
    "        queue.append(t1.right)\n",
    "        queue.append(t2.left)\n",
    "        \n",
    "    return True"
   ]
  },
  {
   "cell_type": "code",
   "execution_count": 4,
   "metadata": {},
   "outputs": [
    {
     "data": {
      "text/plain": [
       "True"
      ]
     },
     "execution_count": 4,
     "metadata": {},
     "output_type": "execute_result"
    }
   ],
   "source": [
    "root = TreeNode(1)\n",
    "root.left = TreeNode(2)\n",
    "root.right = TreeNode(2)\n",
    "root.left.left = TreeNode(3)\n",
    "root.left.right = TreeNode(4)\n",
    "root.right.left = TreeNode(4)\n",
    "root.right.right = TreeNode(3)\n",
    "\n",
    "isSymmetric(root)"
   ]
  },
  {
   "cell_type": "code",
   "execution_count": 6,
   "metadata": {},
   "outputs": [
    {
     "data": {
      "text/plain": [
       "False"
      ]
     },
     "execution_count": 6,
     "metadata": {},
     "output_type": "execute_result"
    }
   ],
   "source": [
    "root = TreeNode(1)\n",
    "root.left = TreeNode(2)\n",
    "root.right = TreeNode(2)\n",
    "root.left.left = TreeNode()\n",
    "root.left.right = TreeNode()\n",
    "root.left.right = TreeNode(3)\n",
    "root.left.right = TreeNode(3)\n",
    "isSymmetric(root)"
   ]
  },
  {
   "cell_type": "code",
   "execution_count": null,
   "metadata": {},
   "outputs": [],
   "source": []
  }
 ],
 "metadata": {
  "kernelspec": {
   "display_name": "Python 3",
   "language": "python",
   "name": "python3"
  },
  "language_info": {
   "codemirror_mode": {
    "name": "ipython",
    "version": 3
   },
   "file_extension": ".py",
   "mimetype": "text/x-python",
   "name": "python",
   "nbconvert_exporter": "python",
   "pygments_lexer": "ipython3",
   "version": "3.8.8"
  }
 },
 "nbformat": 4,
 "nbformat_minor": 4
}
