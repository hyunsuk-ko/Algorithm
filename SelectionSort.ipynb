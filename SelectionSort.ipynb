{
 "cells": [
  {
   "cell_type": "markdown",
   "metadata": {},
   "source": [
    "## Selection Sort\n",
    ": $O(n^2)$"
   ]
  },
  {
   "cell_type": "code",
   "execution_count": 4,
   "metadata": {},
   "outputs": [
    {
     "name": "stdout",
     "output_type": "stream",
     "text": [
      "[1, 7, 3, 2, 8, 6]\n",
      "[1, 7, 3, 2, 8, 6]\n",
      "[1, 2, 3, 7, 8, 6]\n",
      "[1, 2, 3, 7, 8, 6]\n",
      "[1, 2, 3, 6, 8, 7]\n",
      "[1, 2, 3, 6, 7, 8]\n",
      "[1, 2, 3, 6, 7, 8]\n"
     ]
    },
    {
     "data": {
      "text/plain": [
       "[1, 2, 3, 6, 7, 8]"
      ]
     },
     "execution_count": 4,
     "metadata": {},
     "output_type": "execute_result"
    }
   ],
   "source": [
    "def selection_sort(A):\n",
    "    for i in range(len(A)):\n",
    "        min_idx = i # minimum index is current index\n",
    "        for j in range(min_idx + 1, len(A)): # iterate over indices after current index\n",
    "            if A[min_idx] > A[j]: # if the next value is smaller than min index\n",
    "                min_idx = j # set the next index as min index\n",
    "        swap(A, i, min_idx) # then swap min value with current value\n",
    "        print(A)\n",
    "    return A\n",
    "        \n",
    "def swap(A, x, y):\n",
    "    tmp = A[x]\n",
    "    A[x] = A[y]\n",
    "    A[y] = tmp\n",
    "    \n",
    "A = [1,7,3,2,8,6]\n",
    "print(A)\n",
    "selection_sort(A)"
   ]
  },
  {
   "cell_type": "code",
   "execution_count": null,
   "metadata": {},
   "outputs": [],
   "source": []
  }
 ],
 "metadata": {
  "kernelspec": {
   "display_name": "Python 3",
   "language": "python",
   "name": "python3"
  },
  "language_info": {
   "codemirror_mode": {
    "name": "ipython",
    "version": 3
   },
   "file_extension": ".py",
   "mimetype": "text/x-python",
   "name": "python",
   "nbconvert_exporter": "python",
   "pygments_lexer": "ipython3",
   "version": "3.8.8"
  }
 },
 "nbformat": 4,
 "nbformat_minor": 4
}
