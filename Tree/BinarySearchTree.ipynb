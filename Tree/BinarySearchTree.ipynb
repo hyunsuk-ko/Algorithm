{
 "cells": [
  {
   "cell_type": "code",
   "execution_count": 1,
   "metadata": {},
   "outputs": [],
   "source": [
    "class TreeNode:\n",
    "    def __init__(self, x):\n",
    "        self.val = x\n",
    "        self.left = None\n",
    "        self.right = None"
   ]
  },
  {
   "cell_type": "markdown",
   "metadata": {},
   "source": [
    "### LeetCode 98: Validate Binary Search Tree\n",
    "https://leetcode.com/problems/validate-binary-search-tree/description/?envType=study-plan&id=level-1"
   ]
  },
  {
   "cell_type": "code",
   "execution_count": 2,
   "metadata": {},
   "outputs": [],
   "source": [
    "import math\n",
    "def isValidBST(root):\n",
    "    def validate(node, lower_bound = -math.inf, upper_bound = math.inf):\n",
    "        # DFS\n",
    "        if not node:\n",
    "            return True\n",
    "        \n",
    "        # The key idea is to set lower bound and upper bound\n",
    "        # and then keep updating.\n",
    "        if node.val <= lower_bound or node.val >= upper_bound:\n",
    "            return False\n",
    "\n",
    "        return (validate(node.left, lower_bound, node.val) and validate(node.right, node.val, upper_bound))\n",
    "    return validate(root)"
   ]
  },
  {
   "cell_type": "code",
   "execution_count": 3,
   "metadata": {},
   "outputs": [
    {
     "data": {
      "text/plain": [
       "True"
      ]
     },
     "execution_count": 3,
     "metadata": {},
     "output_type": "execute_result"
    }
   ],
   "source": [
    "tree = TreeNode(2)\n",
    "tree.left = TreeNode(1)\n",
    "tree.right = TreeNode(3)\n",
    "isValidBST(tree)"
   ]
  },
  {
   "cell_type": "code",
   "execution_count": 4,
   "metadata": {},
   "outputs": [
    {
     "data": {
      "text/plain": [
       "False"
      ]
     },
     "execution_count": 4,
     "metadata": {},
     "output_type": "execute_result"
    }
   ],
   "source": [
    "tree = TreeNode(5)\n",
    "tree.left = TreeNode(1)\n",
    "tree.right = TreeNode(4)\n",
    "tree.right.left = TreeNode(3)\n",
    "tree.right.right = TreeNode(6)\n",
    "isValidBST(tree)"
   ]
  },
  {
   "cell_type": "markdown",
   "metadata": {},
   "source": [
    "### LeetCode 235: Lowest Common Ancestor\n",
    "https://leetcode.com/problems/lowest-common-ancestor-of-a-binary-search-tree/?envType=study-plan&id=level-1"
   ]
  },
  {
   "cell_type": "code",
   "execution_count": 6,
   "metadata": {},
   "outputs": [],
   "source": [
    "# DFS: iteration\n",
    "def lowestCommonAncestor(root, p, q):\n",
    "    parent_val = root.val\n",
    "    p_val = p.val\n",
    "    q_val = q.val\n",
    "\n",
    "    # if both values are lesser than the parent node, \n",
    "    # we only iterate through the left subtree\n",
    "    if p_val > parent_val and q_val > parent_val:\n",
    "        return lowestCommonAncestor(root.right, p, q)\n",
    "\n",
    "    # if both values are greater than the parent node, \n",
    "    # we only iterate through the right subtree\n",
    "    elif p_val < parent_val and q_val < parent_val:\n",
    "        return lowestCommonAncestor(root.left, p, q)\n",
    "    \n",
    "    # otherwise, the common ancestor is the root node.\n",
    "    else:\n",
    "        return root.val"
   ]
  },
  {
   "cell_type": "code",
   "execution_count": 7,
   "metadata": {},
   "outputs": [
    {
     "data": {
      "text/plain": [
       "6"
      ]
     },
     "execution_count": 7,
     "metadata": {},
     "output_type": "execute_result"
    }
   ],
   "source": [
    "tree = TreeNode(6)\n",
    "tree.left = TreeNode(2)\n",
    "tree.right = TreeNode(8)\n",
    "tree.left.left = TreeNode(0)\n",
    "tree.left.right = TreeNode(4)\n",
    "tree.right.left = TreeNode(3)\n",
    "tree.right.right = TreeNode(5)\n",
    "tree.right.left = TreeNode(7)\n",
    "tree.right.right = TreeNode(9)\n",
    "\n",
    "lowestCommonAncestor(tree, tree.left, tree.right)"
   ]
  },
  {
   "cell_type": "code",
   "execution_count": 8,
   "metadata": {},
   "outputs": [
    {
     "data": {
      "text/plain": [
       "2"
      ]
     },
     "execution_count": 8,
     "metadata": {},
     "output_type": "execute_result"
    }
   ],
   "source": [
    "tree = TreeNode(6)\n",
    "tree.left = TreeNode(2) #\n",
    "tree.right = TreeNode(8)\n",
    "tree.left.left = TreeNode(0)\n",
    "tree.left.right = TreeNode(4) #\n",
    "tree.right.left = TreeNode(3)\n",
    "tree.right.right = TreeNode(5)\n",
    "tree.right.left = TreeNode(7)\n",
    "tree.right.right = TreeNode(9)\n",
    "\n",
    "lowestCommonAncestor(tree, tree.left, tree.left.right)"
   ]
  },
  {
   "cell_type": "code",
   "execution_count": 9,
   "metadata": {},
   "outputs": [
    {
     "data": {
      "text/plain": [
       "2"
      ]
     },
     "execution_count": 9,
     "metadata": {},
     "output_type": "execute_result"
    }
   ],
   "source": [
    "tree = TreeNode(2)\n",
    "tree.left = TreeNode(1) #\n",
    "\n",
    "lowestCommonAncestor(tree, tree, tree.left)"
   ]
  },
  {
   "cell_type": "markdown",
   "metadata": {},
   "source": [
    "### LeetCode 938: Range Sum of BST\n",
    "https://leetcode.com/problems/range-sum-of-bst/"
   ]
  },
  {
   "cell_type": "code",
   "execution_count": 1,
   "metadata": {},
   "outputs": [],
   "source": [
    "def rangeSumBST(root, low, high):\n",
    "    def dfs(root, low, high):\n",
    "        global count\n",
    "        if not root:\n",
    "            return count\n",
    "\n",
    "        print(\"Curr val:\", root.val)\n",
    "        print(\"Low:\", low)\n",
    "        print(\"High:\", high)       \n",
    "        print()\n",
    "\n",
    "        if low <= root.val and root.val <= high:\n",
    "            count += root.val\n",
    "            print(\"Count:\", count)\n",
    "            print()\n",
    "            rangeSumBST(root.left, low, high)\n",
    "            rangeSumBST(root.right, low, high)\n",
    "            return count\n",
    "\n",
    "        elif root.val < low:\n",
    "            rangeSumBST(root.right, low, high)\n",
    "\n",
    "        elif root.val > high:\n",
    "            rangeSumBST(root.left, low, high)\n",
    "\n",
    "    count = 0\n",
    "    dfs(root, low, high)\n",
    "    return count"
   ]
  },
  {
   "cell_type": "code",
   "execution_count": 2,
   "metadata": {},
   "outputs": [
    {
     "ename": "NameError",
     "evalue": "name 'TreeNode' is not defined",
     "output_type": "error",
     "traceback": [
      "\u001b[0;31m---------------------------------------------------------------------------\u001b[0m",
      "\u001b[0;31mNameError\u001b[0m                                 Traceback (most recent call last)",
      "\u001b[0;32m<ipython-input-2-2c500c1e8eef>\u001b[0m in \u001b[0;36m<module>\u001b[0;34m\u001b[0m\n\u001b[0;32m----> 1\u001b[0;31m \u001b[0mroot\u001b[0m \u001b[0;34m=\u001b[0m \u001b[0mTreeNode\u001b[0m\u001b[0;34m(\u001b[0m\u001b[0;36m10\u001b[0m\u001b[0;34m)\u001b[0m\u001b[0;34m\u001b[0m\u001b[0;34m\u001b[0m\u001b[0m\n\u001b[0m\u001b[1;32m      2\u001b[0m \u001b[0mroot\u001b[0m\u001b[0;34m.\u001b[0m\u001b[0mleft\u001b[0m \u001b[0;34m=\u001b[0m \u001b[0mTreeNode\u001b[0m\u001b[0;34m(\u001b[0m\u001b[0;36m5\u001b[0m\u001b[0;34m)\u001b[0m\u001b[0;34m\u001b[0m\u001b[0;34m\u001b[0m\u001b[0m\n\u001b[1;32m      3\u001b[0m \u001b[0mroot\u001b[0m\u001b[0;34m.\u001b[0m\u001b[0mright\u001b[0m \u001b[0;34m=\u001b[0m \u001b[0mTreeNode\u001b[0m\u001b[0;34m(\u001b[0m\u001b[0;36m15\u001b[0m\u001b[0;34m)\u001b[0m\u001b[0;34m\u001b[0m\u001b[0;34m\u001b[0m\u001b[0m\n\u001b[1;32m      4\u001b[0m \u001b[0mroot\u001b[0m\u001b[0;34m.\u001b[0m\u001b[0mleft\u001b[0m\u001b[0;34m.\u001b[0m\u001b[0mleft\u001b[0m \u001b[0;34m=\u001b[0m \u001b[0mTreeNode\u001b[0m\u001b[0;34m(\u001b[0m\u001b[0;36m3\u001b[0m\u001b[0;34m)\u001b[0m\u001b[0;34m\u001b[0m\u001b[0;34m\u001b[0m\u001b[0m\n\u001b[1;32m      5\u001b[0m \u001b[0mroot\u001b[0m\u001b[0;34m.\u001b[0m\u001b[0mleft\u001b[0m\u001b[0;34m.\u001b[0m\u001b[0mright\u001b[0m \u001b[0;34m=\u001b[0m \u001b[0mTreeNode\u001b[0m\u001b[0;34m(\u001b[0m\u001b[0;36m7\u001b[0m\u001b[0;34m)\u001b[0m\u001b[0;34m\u001b[0m\u001b[0;34m\u001b[0m\u001b[0m\n",
      "\u001b[0;31mNameError\u001b[0m: name 'TreeNode' is not defined"
     ]
    }
   ],
   "source": [
    "root = TreeNode(10)\n",
    "root.left = TreeNode(5)\n",
    "root.right = TreeNode(15)\n",
    "root.left.left = TreeNode(3)\n",
    "root.left.right = TreeNode(7)\n",
    "root.right.right = TreeNode(18)\n",
    "rangeSumBST(root, 7, 15)"
   ]
  },
  {
   "cell_type": "markdown",
   "metadata": {},
   "source": [
    "### LeetCode 108: Convert Sorted Array to Binary Search Tree\n",
    "https://leetcode.com/problems/convert-sorted-array-to-binary-search-tree/"
   ]
  },
  {
   "cell_type": "code",
   "execution_count": 5,
   "metadata": {},
   "outputs": [],
   "source": [
    "def sortedArrayToBST(nums):\n",
    "    def createBST(nums, start, end):\n",
    "        if start > end:\n",
    "            return None\n",
    "        \n",
    "        mid = (start + end) // 2\n",
    "        root = TreeNode(nums[mid])\n",
    "        root.left = createBST(nums, start, mid - 1)\n",
    "        root.right = createBST(nums, mid + 1, end)\n",
    "        return root\n",
    "    return createBST(nums, 0, len(nums) - 1)"
   ]
  },
  {
   "cell_type": "code",
   "execution_count": 6,
   "metadata": {},
   "outputs": [
    {
     "data": {
      "text/plain": [
       "<__main__.TreeNode at 0x7f8db85fc0d0>"
      ]
     },
     "execution_count": 6,
     "metadata": {},
     "output_type": "execute_result"
    }
   ],
   "source": [
    "nums = [-10,-3,0,5,9]\n",
    "sortedArrayToBST(nums)"
   ]
  },
  {
   "cell_type": "code",
   "execution_count": 7,
   "metadata": {},
   "outputs": [
    {
     "data": {
      "text/plain": [
       "<__main__.TreeNode at 0x7f8db861c730>"
      ]
     },
     "execution_count": 7,
     "metadata": {},
     "output_type": "execute_result"
    }
   ],
   "source": [
    "nums = [1,3]\n",
    "sortedArrayToBST(nums)"
   ]
  },
  {
   "cell_type": "markdown",
   "metadata": {},
   "source": [
    "### LeetCode 897: Increasing Order Binary Search Tree\n",
    "https://leetcode.com/problems/increasing-order-search-tree/"
   ]
  },
  {
   "cell_type": "code",
   "execution_count": 12,
   "metadata": {},
   "outputs": [],
   "source": [
    "class Solution:\n",
    "    def __init__(self, root):\n",
    "        self.root = root\n",
    "    \n",
    "    def increasingBST(self, root):\n",
    "        if not root:\n",
    "            return None\n",
    "        ans = self.curr = TreeNode(0)\n",
    "\n",
    "        def inorder(node):\n",
    "            if node:\n",
    "                inorder(node.left)\n",
    "\n",
    "                self.curr.right = TreeNode(node.val)\n",
    "                self.curr = self.curr.right\n",
    "                print(self.curr.val)\n",
    "\n",
    "                if node.right:\n",
    "                    inorder(node.right)\n",
    "        inorder(root)\n",
    "        return ans.right"
   ]
  },
  {
   "cell_type": "code",
   "execution_count": 13,
   "metadata": {},
   "outputs": [
    {
     "name": "stdout",
     "output_type": "stream",
     "text": [
      "1\n",
      "5\n",
      "7\n"
     ]
    },
    {
     "data": {
      "text/plain": [
       "<__main__.TreeNode at 0x7f43e0118970>"
      ]
     },
     "execution_count": 13,
     "metadata": {},
     "output_type": "execute_result"
    }
   ],
   "source": [
    "root = TreeNode(5)\n",
    "root.left = TreeNode(1)\n",
    "root.right = TreeNode(7)\n",
    "\n",
    "sol = Solution(root)\n",
    "sol.increasingBST(root)"
   ]
  },
  {
   "cell_type": "code",
   "execution_count": 14,
   "metadata": {},
   "outputs": [
    {
     "name": "stdout",
     "output_type": "stream",
     "text": [
      "1\n",
      "2\n",
      "3\n",
      "4\n",
      "5\n",
      "6\n",
      "7\n",
      "8\n",
      "9\n"
     ]
    },
    {
     "data": {
      "text/plain": [
       "<__main__.TreeNode at 0x7f43e00df790>"
      ]
     },
     "execution_count": 14,
     "metadata": {},
     "output_type": "execute_result"
    }
   ],
   "source": [
    "root = TreeNode(5)\n",
    "root.left = TreeNode(3)\n",
    "root.right = TreeNode(6)\n",
    "root.left.left = TreeNode(2)\n",
    "root.left.right = TreeNode(4)\n",
    "root.right.right = TreeNode(8)\n",
    "root.right.right.left = TreeNode(7)\n",
    "root.right.right.right = TreeNode(9)\n",
    "root.left.left.left = TreeNode(1)\n",
    "\n",
    "sol = Solution(root)\n",
    "sol.increasingBST(root)"
   ]
  },
  {
   "cell_type": "markdown",
   "metadata": {},
   "source": [
    "### LeetCode 897: Search in a Binary Search Tree\n",
    "https://leetcode.com/problems/search-in-a-binary-search-tree/description/"
   ]
  },
  {
   "cell_type": "code",
   "execution_count": 15,
   "metadata": {},
   "outputs": [],
   "source": [
    "def searchBST(root, val):\n",
    "    if not root:\n",
    "        return None\n",
    "    \n",
    "    def dfs(root, val):\n",
    "        if root.val == val:\n",
    "            print(\"TRUE\")\n",
    "            return root\n",
    "        elif root.val > val and root.left:\n",
    "            return dfs(root.left, val)\n",
    "        elif root.val < val and root.right:\n",
    "            return dfs(root.right, val)\n",
    "        print(\"TRUE\")\n",
    "    return dfs(root,val)"
   ]
  },
  {
   "cell_type": "code",
   "execution_count": 16,
   "metadata": {},
   "outputs": [
    {
     "name": "stdout",
     "output_type": "stream",
     "text": [
      "TRUE\n"
     ]
    },
    {
     "data": {
      "text/plain": [
       "<__main__.TreeNode at 0x7f43e03afa30>"
      ]
     },
     "execution_count": 16,
     "metadata": {},
     "output_type": "execute_result"
    }
   ],
   "source": [
    "root = TreeNode(4)\n",
    "root.left = TreeNode(2)\n",
    "root.right = TreeNode(7)\n",
    "root.left.left = TreeNode(1)\n",
    "root.left.right = TreeNode(3)\n",
    "\n",
    "searchBST(root, 2)"
   ]
  },
  {
   "cell_type": "code",
   "execution_count": 17,
   "metadata": {},
   "outputs": [
    {
     "name": "stdout",
     "output_type": "stream",
     "text": [
      "TRUE\n"
     ]
    }
   ],
   "source": [
    "root = TreeNode(4)\n",
    "root.left = TreeNode(2)\n",
    "root.right = TreeNode(7)\n",
    "root.left.left = TreeNode(1)\n",
    "root.left.right = TreeNode(3)\n",
    "\n",
    "searchBST(root, 5)"
   ]
  },
  {
   "cell_type": "code",
   "execution_count": null,
   "metadata": {},
   "outputs": [],
   "source": []
  }
 ],
 "metadata": {
  "kernelspec": {
   "display_name": "Python 3",
   "language": "python",
   "name": "python3"
  },
  "language_info": {
   "codemirror_mode": {
    "name": "ipython",
    "version": 3
   },
   "file_extension": ".py",
   "mimetype": "text/x-python",
   "name": "python",
   "nbconvert_exporter": "python",
   "pygments_lexer": "ipython3",
   "version": "3.8.8"
  }
 },
 "nbformat": 4,
 "nbformat_minor": 4
}
