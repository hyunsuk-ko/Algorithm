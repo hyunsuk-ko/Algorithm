{
 "cells": [
  {
   "cell_type": "markdown",
   "metadata": {},
   "source": [
    "## Sliding Windows\n",
    "https://www.youtube.com/watch?v=GcW4mgmgSbw"
   ]
  },
  {
   "cell_type": "markdown",
   "metadata": {},
   "source": [
    "### Example 1: Fixed Size Sliding Window\n",
    "Q) Given an array and find the sum of all subarrays of length k\n",
    "\n",
    "### $\\therefore$ Time Complexity: O(n * k)"
   ]
  },
  {
   "cell_type": "code",
   "execution_count": 4,
   "metadata": {},
   "outputs": [
    {
     "data": {
      "text/plain": [
       "[6, 9, 12, 15]"
      ]
     },
     "execution_count": 4,
     "metadata": {},
     "output_type": "execute_result"
    }
   ],
   "source": [
    "def bad_example(array, k):\n",
    "    result = []\n",
    "    for i in range(len(array) - k + 1):\n",
    "        sums = sum(array[i: i+k])\n",
    "        result.append(sums)\n",
    "    return result\n",
    "bad_example([1,2,3,4,5,6], 3)"
   ]
  },
  {
   "cell_type": "code",
   "execution_count": 12,
   "metadata": {},
   "outputs": [
    {
     "data": {
      "text/plain": [
       "[15, 20]"
      ]
     },
     "execution_count": 12,
     "metadata": {},
     "output_type": "execute_result"
    }
   ],
   "source": [
    "bad_example([1,2,3,4,5,6], 5)"
   ]
  },
  {
   "cell_type": "markdown",
   "metadata": {},
   "source": [
    "Every time we compute the sum of a subarray, we compute the sum of first $k$ values, then we compute the sum of the next $k$ values. This means we are actually computing the sum of overlapping $k - 1$ values twice. We do not need to recompute everything. All we ned to do is look at the difference between the two subarrays: $9 = 6 -1 + 4$. When $k = 5$, $20 = 15 - (1 - 6)$.\n",
    "\n",
    "### $\\therefore$ Time Complexity: O(n)"
   ]
  },
  {
   "cell_type": "code",
   "execution_count": 9,
   "metadata": {},
   "outputs": [],
   "source": [
    "def good_example(array, k):\n",
    "    curr_subarray = sum(array[:k])\n",
    "    result = [curr_subarray]\n",
    "    \n",
    "    for i in range(1, len(array) - k + 1):\n",
    "        curr_subarray = curr_subarray - array[i-1] + array[i+k-1]\n",
    "        result.append(curr_subarray)\n",
    "        \n",
    "    return result"
   ]
  },
  {
   "cell_type": "code",
   "execution_count": 10,
   "metadata": {},
   "outputs": [
    {
     "data": {
      "text/plain": [
       "[6, 9, 12, 15]"
      ]
     },
     "execution_count": 10,
     "metadata": {},
     "output_type": "execute_result"
    }
   ],
   "source": [
    "good_example([1,2,3,4,5,6], 3)"
   ]
  },
  {
   "cell_type": "code",
   "execution_count": 11,
   "metadata": {},
   "outputs": [
    {
     "data": {
      "text/plain": [
       "[15, 20]"
      ]
     },
     "execution_count": 11,
     "metadata": {},
     "output_type": "execute_result"
    }
   ],
   "source": [
    "good_example([1,2,3,4,5,6], 5)"
   ]
  },
  {
   "cell_type": "markdown",
   "metadata": {},
   "source": [
    "### Example 2: Dynamically Sized Sliding Window\n",
    "\n",
    "#### Q) Find the shortest subarray with the sum that is greater than or equal to x.\n",
    "\n",
    "In this case, we do not know what size the subarray needs to be. So, our dynamic sliding window allows us to start with small and expand until we match the condition that we need. Once we find the subarray that matches our sum, then we try to contract again from the other side to get what is minimally sized subarray that has a sum that is greater than or equal to x."
   ]
  },
  {
   "cell_type": "code",
   "execution_count": 24,
   "metadata": {},
   "outputs": [
    {
     "name": "stdout",
     "output_type": "stream",
     "text": [
      "Current array: [1]\n",
      "Current Sum: 1\n",
      "\n",
      "Current array: [1, 2]\n",
      "Current Sum: 3\n",
      "\n",
      "Current array: [1, 2, 3]\n",
      "Current Sum: 6\n",
      "\n",
      "Current array: [1, 2, 3, 4]\n",
      "Current Sum: 10\n",
      "\n",
      "10 is greater than or equal to 7\n",
      "Current array: [1, 2, 3, 4]\n",
      "Current Sum: 10\n",
      "Min Length: 4\n",
      "\n",
      "9 is greater than or equal to 7\n",
      "Current array: [2, 3, 4]\n",
      "Current Sum: 9\n",
      "Min Length: 3\n",
      "\n",
      "7 is greater than or equal to 7\n",
      "Current array: [3, 4]\n",
      "Current Sum: 7\n",
      "Min Length: 2\n",
      "\n",
      "Current array: [4, 5]\n",
      "Current Sum: 9\n",
      "\n",
      "9 is greater than or equal to 7\n",
      "Current array: [4, 5]\n",
      "Current Sum: 9\n",
      "Min Length: 2\n",
      "\n",
      "Current array: [5, 6]\n",
      "Current Sum: 11\n",
      "\n",
      "11 is greater than or equal to 7\n",
      "Current array: [5, 6]\n",
      "Current Sum: 11\n",
      "Min Length: 2\n",
      "\n"
     ]
    },
    {
     "data": {
      "text/plain": [
       "2"
      ]
     },
     "execution_count": 24,
     "metadata": {},
     "output_type": "execute_result"
    }
   ],
   "source": [
    "def dynamic_sliding_window(arr, x):\n",
    "    min_length = float('inf')\n",
    "    \n",
    "    # the current range and sum of our sliding window\n",
    "    start = 0\n",
    "    end = 0\n",
    "    current_sum = 0\n",
    "    \n",
    "    # extend the sliding window until our criteria is met\n",
    "    while end < len(arr):\n",
    "        current_sum = current_sum + arr[end]\n",
    "        end += 1\n",
    "        print(\"Current array:\", arr[start:end])\n",
    "        print(\"Current Sum:\", current_sum)\n",
    "        print()\n",
    "    \n",
    "        \n",
    "        # then contract the sliding window until it\n",
    "        # no longer meets our condition     \n",
    "        while start < end and current_sum >= x:\n",
    "            print(f\"{current_sum} is greater than or equal to {x}\")\n",
    "            print(\"Current array:\", arr[start:end])\n",
    "            print(\"Current Sum:\", current_sum)\n",
    "            current_sum = current_sum - arr[start]\n",
    "            start += 1\n",
    "            \n",
    "            # update the min_length if this is shorter\n",
    "            # than the current min\n",
    "            min_length = min(min_length, end - start + 1)\n",
    "            print(\"Min Length:\", min_length)\n",
    "            print()\n",
    "            \n",
    "    return min_length\n",
    "\n",
    "dynamic_sliding_window([1,2,3,4,5,6], 7)"
   ]
  },
  {
   "cell_type": "markdown",
   "metadata": {},
   "source": [
    "Naive approach to calcualte the sum of every single subarray which one is shortest: $N^2$ subarrays $\\times$ sum of each subarray $\\therefore O(n^3)$"
   ]
  },
  {
   "cell_type": "markdown",
   "metadata": {},
   "source": [
    "Dynamic Approach: On each turn, we're either moving the start pointer or moving the end pointer and each of those is moving in one direction. And each of those is moving at least one step per turn. In total, both of those pointers move from the beginning of an array to the end of an array.\n",
    "$\\therefore O(n)$"
   ]
  },
  {
   "cell_type": "code",
   "execution_count": null,
   "metadata": {},
   "outputs": [],
   "source": []
  }
 ],
 "metadata": {
  "kernelspec": {
   "display_name": "Python 3",
   "language": "python",
   "name": "python3"
  },
  "language_info": {
   "codemirror_mode": {
    "name": "ipython",
    "version": 3
   },
   "file_extension": ".py",
   "mimetype": "text/x-python",
   "name": "python",
   "nbconvert_exporter": "python",
   "pygments_lexer": "ipython3",
   "version": "3.8.8"
  }
 },
 "nbformat": 4,
 "nbformat_minor": 4
}
