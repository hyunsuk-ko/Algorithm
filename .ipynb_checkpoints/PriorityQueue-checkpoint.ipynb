{
 "cells": [
  {
   "cell_type": "markdown",
   "metadata": {},
   "source": [
    "#### A Max(Min)-Heap is a data structure that can take items, and can remove and return the maximum, with both operations taking O(log⁡ N) time."
   ]
  },
  {
   "cell_type": "code",
   "execution_count": 6,
   "metadata": {},
   "outputs": [
    {
     "data": {
      "text/plain": [
       "[0, 1, 2, 3, 4, 5, 6, 7, 8, 9]"
      ]
     },
     "execution_count": 6,
     "metadata": {},
     "output_type": "execute_result"
    }
   ],
   "source": [
    "import heapq\n",
    "\n",
    "# min heap by default\n",
    "def heapsort(iterable):\n",
    "    h = []\n",
    "    result = []\n",
    "    \n",
    "    # insert all values to the heap\n",
    "    for value in iterable:\n",
    "        heapq.heappush(h, value)\n",
    "    # iteratively draw each element from the heap    \n",
    "    for i in range(len(h)):\n",
    "        result.append(heapq.heappop(h))\n",
    "        \n",
    "    return result\n",
    "\n",
    "result = heapsort([1,3,5,7,9,2,4,6,8,0])\n",
    "result"
   ]
  },
  {
   "cell_type": "markdown",
   "metadata": {},
   "source": [
    "#### While most programming languages have a Heap/ Priority Queue data structure, some, such as Python and Java, only have Min-Heap. Just as the name suggests, this is a Heap that instead of always returning the maximum item, it returns the minimum. Solution to this problem:\n",
    "\n",
    "- Multiply all numbers going into the heap by -1, and then multiply them by -1 to restore them when they come out."
   ]
  },
  {
   "cell_type": "code",
   "execution_count": 7,
   "metadata": {},
   "outputs": [
    {
     "data": {
      "text/plain": [
       "[9, 8, 7, 6, 5, 4, 3, 2, 1, 0]"
      ]
     },
     "execution_count": 7,
     "metadata": {},
     "output_type": "execute_result"
    }
   ],
   "source": [
    "import heapq\n",
    "\n",
    "# min heap by default\n",
    "def heapsort(iterable):\n",
    "    h = []\n",
    "    result = []\n",
    "    \n",
    "    # insert all values to the heap\n",
    "    for value in iterable:\n",
    "        heapq.heappush(h, -value)\n",
    "    # iteratively draw each element from the heap    \n",
    "    for i in range(len(h)):\n",
    "        result.append(-heapq.heappop(h))\n",
    "        \n",
    "    return result\n",
    "\n",
    "result = heapsort([1,3,5,7,9,2,4,6,8,0])\n",
    "result"
   ]
  },
  {
   "cell_type": "markdown",
   "metadata": {},
   "source": [
    "### LeetCode 1046: Last Stone Weight\n",
    "https://leetcode.com/problems/last-stone-weight/"
   ]
  },
  {
   "cell_type": "markdown",
   "metadata": {},
   "source": [
    "### Brute Force Approach\n",
    ": $O(n^2)$"
   ]
  },
  {
   "cell_type": "code",
   "execution_count": 1,
   "metadata": {},
   "outputs": [],
   "source": [
    "def lastStoneWeight(stones):\n",
    "    if len(stones) == 1:\n",
    "        return stones[0]\n",
    "\n",
    "    while len(stones) >= 2:\n",
    "        stones = sorted(stones)\n",
    "        if len(stones) == 2:\n",
    "            return stones[1] - stones[0]\n",
    "        stone1 = stones.pop(-1)\n",
    "        stone2 = stones.pop(-1)\n",
    "\n",
    "        if stone1 != stone2:\n",
    "            stones.append(stone1 - stone2)\n",
    "\n",
    "    \n",
    "    return stones[0]"
   ]
  },
  {
   "cell_type": "code",
   "execution_count": 2,
   "metadata": {},
   "outputs": [
    {
     "data": {
      "text/plain": [
       "1"
      ]
     },
     "execution_count": 2,
     "metadata": {},
     "output_type": "execute_result"
    }
   ],
   "source": [
    "stones = [2,7,4,1,8,1]\n",
    "lastStoneWeight(stones)"
   ]
  },
  {
   "cell_type": "code",
   "execution_count": 3,
   "metadata": {},
   "outputs": [
    {
     "data": {
      "text/plain": [
       "1"
      ]
     },
     "execution_count": 3,
     "metadata": {},
     "output_type": "execute_result"
    }
   ],
   "source": [
    "stones = [1]\n",
    "lastStoneWeight(stones)"
   ]
  },
  {
   "cell_type": "markdown",
   "metadata": {},
   "source": [
    "### Improved Time Complexity Using Heap\n",
    ": $O(NlogN)$"
   ]
  },
  {
   "cell_type": "code",
   "execution_count": 10,
   "metadata": {},
   "outputs": [],
   "source": [
    "def lastStoneWeight(stones):\n",
    "    h = []\n",
    "    # Make all the stones negative. We want to do this *in place*, to keep the\n",
    "    # space complexity of this algorithm at O(1). :-)\n",
    "    for i in range(len(stones)):\n",
    "        heapq.heappush(h, -stones[i])\n",
    "\n",
    "    # While there is more than one stone left, remove the two\n",
    "    # largest, smash them together, and insert the result\n",
    "    # back into the heap if it is non-zero.\n",
    "    while len(stones) > 1: # O(N)\n",
    "        stone_1 = -heapq.heappop(stones) # O(logN)\n",
    "        stone_2 = -heapq.heappop(stones) # O(logN)\n",
    "        if stone_1 != stone_2:\n",
    "            heapq.heappush(stones, stone_1 - stone_2) # O(logN)\n",
    "\n",
    "        # Check if there is a stone left to return. Convert it back\n",
    "        # to positive.\n",
    "        return -heapq.heappop(stones) if stones else 0"
   ]
  },
  {
   "cell_type": "code",
   "execution_count": 11,
   "metadata": {},
   "outputs": [
    {
     "data": {
      "text/plain": [
       "1"
      ]
     },
     "execution_count": 11,
     "metadata": {},
     "output_type": "execute_result"
    }
   ],
   "source": [
    "stones = [2,7,4,1,8,1]\n",
    "lastStoneWeight(stones)"
   ]
  },
  {
   "cell_type": "code",
   "execution_count": 13,
   "metadata": {},
   "outputs": [],
   "source": [
    "stones = [1]\n",
    "lastStoneWeight(stones)"
   ]
  },
  {
   "cell_type": "markdown",
   "metadata": {},
   "source": [
    "### LeetCode 692. Top K Frequent Words\n",
    "https://leetcode.com/problems/top-k-frequent-words/"
   ]
  },
  {
   "cell_type": "code",
   "execution_count": 20,
   "metadata": {},
   "outputs": [],
   "source": [
    "from collections import Counter\n",
    "import heapq\n",
    "\n",
    "def topKFrequent(words, k):\n",
    "    result = []\n",
    "    h = []\n",
    "    cnt = Counter(words)\n",
    "    \n",
    "    # [('i', 2), ('love', 2), ('leetcode', 1), ('coding', 1)]\n",
    "    for word, freq in cnt.items():\n",
    "        heapq.heappush(h, (-freq, word))\n",
    "        \n",
    "    for _ in range(k):\n",
    "        result.append(heapq.heappop(h)[1])\n",
    "        \n",
    "    return result"
   ]
  },
  {
   "cell_type": "code",
   "execution_count": 21,
   "metadata": {},
   "outputs": [
    {
     "data": {
      "text/plain": [
       "['i', 'love']"
      ]
     },
     "execution_count": 21,
     "metadata": {},
     "output_type": "execute_result"
    }
   ],
   "source": [
    "words = [\"i\",\"love\",\"leetcode\",\"i\",\"love\",\"coding\"]\n",
    "topKFrequent(words, 2)"
   ]
  },
  {
   "cell_type": "code",
   "execution_count": 22,
   "metadata": {},
   "outputs": [
    {
     "data": {
      "text/plain": [
       "['the', 'is', 'sunny', 'day']"
      ]
     },
     "execution_count": 22,
     "metadata": {},
     "output_type": "execute_result"
    }
   ],
   "source": [
    "words = [\"the\",\"day\",\"is\",\"sunny\",\"the\",\"the\",\"the\",\"sunny\",\"is\",\"is\"]\n",
    "k = 4\n",
    "topKFrequent(words, k)"
   ]
  },
  {
   "cell_type": "code",
   "execution_count": null,
   "metadata": {},
   "outputs": [],
   "source": []
  }
 ],
 "metadata": {
  "kernelspec": {
   "display_name": "Python 3",
   "language": "python",
   "name": "python3"
  },
  "language_info": {
   "codemirror_mode": {
    "name": "ipython",
    "version": 3
   },
   "file_extension": ".py",
   "mimetype": "text/x-python",
   "name": "python",
   "nbconvert_exporter": "python",
   "pygments_lexer": "ipython3",
   "version": "3.8.8"
  }
 },
 "nbformat": 4,
 "nbformat_minor": 4
}
