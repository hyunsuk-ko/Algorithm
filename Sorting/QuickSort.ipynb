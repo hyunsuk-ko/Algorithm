{
 "cells": [
  {
   "cell_type": "markdown",
   "metadata": {},
   "source": [
    "## Quick Sort\n",
    ": Average = $O(nlogn)$ | Worst = $O(n^2)$"
   ]
  },
  {
   "cell_type": "code",
   "execution_count": 1,
   "metadata": {},
   "outputs": [
    {
     "data": {
      "text/plain": [
       "[1, 2, 3, 6, 7, 8]"
      ]
     },
     "execution_count": 1,
     "metadata": {},
     "output_type": "execute_result"
    }
   ],
   "source": [
    "def quick_sort(A, start_idx, end_idx):\n",
    "    if start_idx < end_idx:\n",
    "        q = partition(A, start_idx, end_idx)\n",
    "    if start_idx < q - 1:\n",
    "        quick_sort(A, start_idx, q - 1)\n",
    "    if q < end_idx:\n",
    "        quick_sort(A, q, end_idx)\n",
    "               \n",
    "    return A\n",
    "\n",
    "def partition(A, start_idx, end_idx):\n",
    "    # setting pivot the middle value of a list\n",
    "    pivot = A[int((start_idx + end_idx) / 2)] \n",
    "    while (start_idx <= end_idx):\n",
    "        # iterate until left value is lesser than pivot\n",
    "        while (A[start_idx] < pivot):\n",
    "            start_idx += 1\n",
    "            \n",
    "        # iterate until right value is larger than pivot\n",
    "        while (A[end_idx] > pivot):\n",
    "            end_idx -= 1\n",
    "            \n",
    "        if (start_idx <= end_idx):\n",
    "            swap(A, start_idx, end_idx)\n",
    "            start_idx += 1\n",
    "            end_idx -= 1\n",
    "    # returns the start index of new partition.        \n",
    "    return start_idx\n",
    "\n",
    "# swap left value and right value \n",
    "def swap(A, start_idx, end_idx):\n",
    "    tmp = A[start_idx]\n",
    "    A[start_idx] = A[end_idx]\n",
    "    A[end_idx] = tmp\n",
    "\n",
    "\n",
    "quick_sort([1,7,3,2,8,6], 0, 5)"
   ]
  },
  {
   "cell_type": "code",
   "execution_count": null,
   "metadata": {},
   "outputs": [],
   "source": []
  }
 ],
 "metadata": {
  "kernelspec": {
   "display_name": "Python 3",
   "language": "python",
   "name": "python3"
  },
  "language_info": {
   "codemirror_mode": {
    "name": "ipython",
    "version": 3
   },
   "file_extension": ".py",
   "mimetype": "text/x-python",
   "name": "python",
   "nbconvert_exporter": "python",
   "pygments_lexer": "ipython3",
   "version": "3.8.8"
  }
 },
 "nbformat": 4,
 "nbformat_minor": 4
}
