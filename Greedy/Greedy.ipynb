{
 "cells": [
  {
   "cell_type": "markdown",
   "metadata": {},
   "source": [
    "## LeetCode 1: Two Sum\n",
    "https://leetcode.com/problems/two-sum/\n",
    "\n",
    "\n",
    "https://www.youtube.com/watch?v=KLlXCFG5TnA"
   ]
  },
  {
   "cell_type": "code",
   "execution_count": 1,
   "metadata": {},
   "outputs": [],
   "source": [
    "# O(n) time complexity using HashMap\n",
    "def twoSum(nums, target):\n",
    "    prevMap = dict()\n",
    "    \n",
    "    for i, n in enumerate(nums):\n",
    "        diff = target - n\n",
    "        if diff in prevMap:\n",
    "            return [prevMap[diff], i]\n",
    "        prevMap[n] = i"
   ]
  },
  {
   "cell_type": "code",
   "execution_count": 2,
   "metadata": {},
   "outputs": [
    {
     "data": {
      "text/plain": [
       "[0, 1]"
      ]
     },
     "execution_count": 2,
     "metadata": {},
     "output_type": "execute_result"
    }
   ],
   "source": [
    "nums = [2,7,11,15]\n",
    "target = 9\n",
    "twoSum(nums, target)"
   ]
  },
  {
   "cell_type": "code",
   "execution_count": 3,
   "metadata": {},
   "outputs": [
    {
     "data": {
      "text/plain": [
       "[1, 2]"
      ]
     },
     "execution_count": 3,
     "metadata": {},
     "output_type": "execute_result"
    }
   ],
   "source": [
    "nums = [3,2,4]\n",
    "target = 6\n",
    "twoSum(nums, target)"
   ]
  },
  {
   "cell_type": "markdown",
   "metadata": {},
   "source": [
    "## LeetCode 125: Maximum 69 Number\n",
    "\n",
    "https://leetcode.com/problems/maximum-69-number/"
   ]
  },
  {
   "cell_type": "code",
   "execution_count": 1,
   "metadata": {},
   "outputs": [],
   "source": [
    "def maximum69Number(num):\n",
    "    nums = [letter for letter in str(num)]\n",
    "    if '6' not in nums:\n",
    "        return num\n",
    "    idx = nums.index('6')\n",
    "    nums[idx] = '9'\n",
    "        \n",
    "    return int(''.join(nums))"
   ]
  },
  {
   "cell_type": "code",
   "execution_count": 2,
   "metadata": {},
   "outputs": [
    {
     "data": {
      "text/plain": [
       "9969"
      ]
     },
     "execution_count": 2,
     "metadata": {},
     "output_type": "execute_result"
    }
   ],
   "source": [
    "num = 9669\n",
    "maximum69Number(num)"
   ]
  },
  {
   "cell_type": "code",
   "execution_count": 3,
   "metadata": {},
   "outputs": [
    {
     "data": {
      "text/plain": [
       "9999"
      ]
     },
     "execution_count": 3,
     "metadata": {},
     "output_type": "execute_result"
    }
   ],
   "source": [
    "num = 9996\n",
    "maximum69Number(num)"
   ]
  },
  {
   "cell_type": "code",
   "execution_count": 4,
   "metadata": {},
   "outputs": [
    {
     "data": {
      "text/plain": [
       "9999"
      ]
     },
     "execution_count": 4,
     "metadata": {},
     "output_type": "execute_result"
    }
   ],
   "source": [
    "num = 9999\n",
    "maximum69Number(num)"
   ]
  },
  {
   "cell_type": "markdown",
   "metadata": {},
   "source": [
    "## LeetCode 2160: Minimum Sum of four Digit Numbers After Splitting Digits\n",
    "\n",
    "https://leetcode.com/problems/minimum-sum-of-four-digit-number-after-splitting-digits/"
   ]
  },
  {
   "cell_type": "code",
   "execution_count": null,
   "metadata": {},
   "outputs": [],
   "source": [
    "def minimumSum(num):\n",
    "    num1 = \"\"\n",
    "    num2 = \"\"\n",
    "    count = 0\n",
    "    \n",
    "    for letter in sorted([*str(num)]):\n",
    "        if count % 2 == 0:\n",
    "            num1 += letter\n",
    "        else:\n",
    "            num2 += letter\n",
    "        count += 1\n",
    "        \n",
    "    return int(num1) + int(num2)"
   ]
  },
  {
   "cell_type": "code",
   "execution_count": 7,
   "metadata": {},
   "outputs": [
    {
     "data": {
      "text/plain": [
       "52"
      ]
     },
     "execution_count": 7,
     "metadata": {},
     "output_type": "execute_result"
    }
   ],
   "source": [
    "num = 2932\n",
    "minimumSum(num)"
   ]
  },
  {
   "cell_type": "code",
   "execution_count": 8,
   "metadata": {},
   "outputs": [
    {
     "data": {
      "text/plain": [
       "13"
      ]
     },
     "execution_count": 8,
     "metadata": {},
     "output_type": "execute_result"
    }
   ],
   "source": [
    "num = 4009\n",
    "minimumSum(num)"
   ]
  },
  {
   "cell_type": "markdown",
   "metadata": {},
   "source": [
    "## LeetCode 121: Best Time to Buy and Sell Stock\n",
    "https://leetcode.com/problems/best-time-to-buy-and-sell-stock/"
   ]
  },
  {
   "cell_type": "code",
   "execution_count": 12,
   "metadata": {},
   "outputs": [],
   "source": [
    "import math\n",
    "\n",
    "def maxProfit(prices):\n",
    "    '''\n",
    "    The points of interest are the peaks and valleys in the given graph. \n",
    "    For every element, we are calculating the difference between that element and \n",
    "    the minimum of all the values before that element and we are updating \n",
    "    the maximum profit if the difference thus found is greater than the current maximum profit.\n",
    "    '''\n",
    "    \n",
    "    min_price = math.inf\n",
    "    max_profit = 0\n",
    "    \n",
    "    for i in range(len(prices)):\n",
    "        if prices[i] < min_price:\n",
    "            min_price = prices[i]\n",
    "        elif max_profit < prices[i] - min_price:\n",
    "            max_profit = prices[i] - min_price\n",
    "    return max_profit"
   ]
  },
  {
   "cell_type": "code",
   "execution_count": 13,
   "metadata": {},
   "outputs": [
    {
     "data": {
      "text/plain": [
       "5"
      ]
     },
     "execution_count": 13,
     "metadata": {},
     "output_type": "execute_result"
    }
   ],
   "source": [
    "prices = [7,1,5,3,6,4]\n",
    "maxProfit(prices)"
   ]
  },
  {
   "cell_type": "code",
   "execution_count": 14,
   "metadata": {},
   "outputs": [
    {
     "data": {
      "text/plain": [
       "0"
      ]
     },
     "execution_count": 14,
     "metadata": {},
     "output_type": "execute_result"
    }
   ],
   "source": [
    "prices = [7,6,4,3,1]\n",
    "maxProfit(prices)"
   ]
  },
  {
   "cell_type": "markdown",
   "metadata": {},
   "source": [
    "## LeetCode 125: Valid Palindrome\n",
    "\n",
    "https://leetcode.com/problems/valid-palindrome/"
   ]
  },
  {
   "cell_type": "code",
   "execution_count": 15,
   "metadata": {},
   "outputs": [],
   "source": [
    "def isPalindrome(s):\n",
    "    concat_str = \"\"\n",
    "    for letter in [*s]:\n",
    "        if letter.isalpha():\n",
    "            concat_str += letter.lower()\n",
    "        elif letter.isnumeric():\n",
    "            concat_str += letter\n",
    "    return concat_str == concat_str[::-1]"
   ]
  },
  {
   "cell_type": "code",
   "execution_count": 16,
   "metadata": {},
   "outputs": [
    {
     "data": {
      "text/plain": [
       "True"
      ]
     },
     "execution_count": 16,
     "metadata": {},
     "output_type": "execute_result"
    }
   ],
   "source": [
    "s = \"A man, a plan, a canal: Panama\"\n",
    "isPalindrome(s)"
   ]
  },
  {
   "cell_type": "code",
   "execution_count": 17,
   "metadata": {},
   "outputs": [
    {
     "data": {
      "text/plain": [
       "False"
      ]
     },
     "execution_count": 17,
     "metadata": {},
     "output_type": "execute_result"
    }
   ],
   "source": [
    "s = \"race a car\"\n",
    "isPalindrome(s)"
   ]
  },
  {
   "cell_type": "markdown",
   "metadata": {},
   "source": [
    "## LeetCode 409: Longest Palindrome\n",
    "\n",
    "https://leetcode.com/problems/longest-palindrome/"
   ]
  },
  {
   "cell_type": "code",
   "execution_count": 19,
   "metadata": {},
   "outputs": [],
   "source": [
    "from collections import Counter\n",
    "\n",
    "def longestPalindrome(s):\n",
    "    count_dict = Counter(s)\n",
    "    length = 0\n",
    "    hasOdd = False\n",
    "    \n",
    "    for num in sorted(count_dict.values(), reverse = True):\n",
    "        if num % 2 == 0:\n",
    "            length += num\n",
    "        else:\n",
    "            if hasOdd == False:\n",
    "                length += num\n",
    "                hasOdd = True\n",
    "            else:\n",
    "                # if odd length letter has already been added,\n",
    "                # the rest of the odd length letter should be added maximum even\n",
    "                # number of times, thus (num -1).\n",
    "                length += (num - 1)\n",
    "                \n",
    "    return length"
   ]
  },
  {
   "cell_type": "code",
   "execution_count": 20,
   "metadata": {},
   "outputs": [
    {
     "data": {
      "text/plain": [
       "7"
      ]
     },
     "execution_count": 20,
     "metadata": {},
     "output_type": "execute_result"
    }
   ],
   "source": [
    "s = \"abccccdd\"\n",
    "longestPalindrome(s)"
   ]
  },
  {
   "cell_type": "markdown",
   "metadata": {},
   "source": [
    "## LeetCode 409: Make Array Zero by Subtacting Equal Amounts\n",
    "\n",
    "https://leetcode.com/problems/make-array-zero-by-subtracting-equal-amounts/"
   ]
  },
  {
   "cell_type": "code",
   "execution_count": 3,
   "metadata": {},
   "outputs": [],
   "source": [
    "# BRUTE FORCE APPROACH: O(n^2)\n",
    "\n",
    "import math\n",
    "\n",
    "def minimumOperations(nums):\n",
    "    if set(nums) == {0}:\n",
    "        return 0\n",
    "    \n",
    "    result = 0\n",
    "    min_num = math.inf\n",
    "    \n",
    "    while set(nums) != {0}:\n",
    "        for num in sorted(nums):\n",
    "            if num > 0:\n",
    "                x = num\n",
    "                break\n",
    "                \n",
    "        for i in range(len(nums)):\n",
    "            if nums[i] > 0:\n",
    "                nums[i] -= x\n",
    "                \n",
    "        result += 1\n",
    "        \n",
    "    return result"
   ]
  },
  {
   "cell_type": "code",
   "execution_count": 2,
   "metadata": {},
   "outputs": [
    {
     "data": {
      "text/plain": [
       "3"
      ]
     },
     "execution_count": 2,
     "metadata": {},
     "output_type": "execute_result"
    }
   ],
   "source": [
    "nums = [1,5,0,3,5]\n",
    "minimumOperations(nums)"
   ]
  },
  {
   "cell_type": "code",
   "execution_count": 4,
   "metadata": {},
   "outputs": [],
   "source": [
    "def minimumOperations(nums): # O(n)\n",
    "    return len(set(nums) - {0})"
   ]
  },
  {
   "cell_type": "code",
   "execution_count": 5,
   "metadata": {},
   "outputs": [
    {
     "data": {
      "text/plain": [
       "3"
      ]
     },
     "execution_count": 5,
     "metadata": {},
     "output_type": "execute_result"
    }
   ],
   "source": [
    "nums = [1,5,0,3,5]\n",
    "minimumOperations(nums)"
   ]
  },
  {
   "cell_type": "markdown",
   "metadata": {},
   "source": [
    "## LeetCode 1217: Maximum Cost to Move Chips to the Same Position\n",
    "\n",
    "https://leetcode.com/problems/minimum-cost-to-move-chips-to-the-same-position/"
   ]
  },
  {
   "cell_type": "code",
   "execution_count": 9,
   "metadata": {},
   "outputs": [],
   "source": [
    "def MinCostToMoveChips(position):\n",
    "    if not position or len(set(position)) == 1:\n",
    "        return 0\n",
    "    \n",
    "    count = dict()\n",
    "    \n",
    "    # since cost from position = position - 2 = 0\n",
    "    # just get the modulus of position[i]\n",
    "    # so only position 0 and 1 exist.\n",
    "    for i in range(len(position)):\n",
    "        if position[i] % 2 not in count:\n",
    "            count[position[i] % 2] = 1\n",
    "        else:\n",
    "            count[position[i] % 2] += 1\n",
    "            \n",
    "    print(count)\n",
    "    \n",
    "    if count[0] < count[1]:\n",
    "        return count[0]\n",
    "    else:\n",
    "        return count[1]"
   ]
  },
  {
   "cell_type": "code",
   "execution_count": 10,
   "metadata": {},
   "outputs": [
    {
     "name": "stdout",
     "output_type": "stream",
     "text": [
      "{1: 2, 0: 1}\n"
     ]
    },
    {
     "data": {
      "text/plain": [
       "1"
      ]
     },
     "execution_count": 10,
     "metadata": {},
     "output_type": "execute_result"
    }
   ],
   "source": [
    "position = [1,2,3]\n",
    "MinCostToMoveChips(position)"
   ]
  },
  {
   "cell_type": "code",
   "execution_count": 11,
   "metadata": {},
   "outputs": [
    {
     "name": "stdout",
     "output_type": "stream",
     "text": [
      "{0: 3, 1: 2}\n"
     ]
    },
    {
     "data": {
      "text/plain": [
       "2"
      ]
     },
     "execution_count": 11,
     "metadata": {},
     "output_type": "execute_result"
    }
   ],
   "source": [
    "position = [2,2,2,3,3]\n",
    "MinCostToMoveChips(position)"
   ]
  },
  {
   "cell_type": "code",
   "execution_count": 12,
   "metadata": {},
   "outputs": [
    {
     "name": "stdout",
     "output_type": "stream",
     "text": [
      "{1: 1, 0: 1}\n"
     ]
    },
    {
     "data": {
      "text/plain": [
       "1"
      ]
     },
     "execution_count": 12,
     "metadata": {},
     "output_type": "execute_result"
    }
   ],
   "source": [
    "position = [1,1000000000]\n",
    "MinCostToMoveChips(position)"
   ]
  },
  {
   "cell_type": "markdown",
   "metadata": {},
   "source": [
    "## LeetCode 2389: Longest Subsequence with Limited Sum\n",
    "\n",
    "https://leetcode.com/problems/longest-subsequence-with-limited-sum/"
   ]
  },
  {
   "cell_type": "code",
   "execution_count": 11,
   "metadata": {},
   "outputs": [],
   "source": [
    "import itertools\n",
    "from bisect import bisect_right\n",
    "\n",
    "def answerQueries(nums, queries):\n",
    "    \n",
    "    A = list(itertools.accumulate(sorted(nums)))\n",
    "    \n",
    "    return [bisect_right(A, q) for q in queries]"
   ]
  },
  {
   "cell_type": "code",
   "execution_count": 12,
   "metadata": {},
   "outputs": [
    {
     "data": {
      "text/plain": [
       "[2, 3, 4]"
      ]
     },
     "execution_count": 12,
     "metadata": {},
     "output_type": "execute_result"
    }
   ],
   "source": [
    "nums = [4,5,2,1]\n",
    "queries = [3,10,21]\n",
    "answerQueries(nums, queries)"
   ]
  },
  {
   "cell_type": "code",
   "execution_count": 13,
   "metadata": {},
   "outputs": [
    {
     "data": {
      "text/plain": [
       "[0]"
      ]
     },
     "execution_count": 13,
     "metadata": {},
     "output_type": "execute_result"
    }
   ],
   "source": [
    "nums = [2,3,4,5]\n",
    "queries = [1]\n",
    "answerQueries(nums, queries)"
   ]
  },
  {
   "cell_type": "code",
   "execution_count": null,
   "metadata": {},
   "outputs": [],
   "source": []
  }
 ],
 "metadata": {
  "kernelspec": {
   "display_name": "Python 3",
   "language": "python",
   "name": "python3"
  },
  "language_info": {
   "codemirror_mode": {
    "name": "ipython",
    "version": 3
   },
   "file_extension": ".py",
   "mimetype": "text/x-python",
   "name": "python",
   "nbconvert_exporter": "python",
   "pygments_lexer": "ipython3",
   "version": "3.8.8"
  }
 },
 "nbformat": 4,
 "nbformat_minor": 4
}
