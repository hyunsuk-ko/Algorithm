{
 "cells": [
  {
   "cell_type": "code",
   "execution_count": 1,
   "metadata": {},
   "outputs": [],
   "source": [
    "class ListNode:\n",
    "    def __init__(self, val=0, next=None):\n",
    "        self.val = val\n",
    "        self.next = next"
   ]
  },
  {
   "cell_type": "markdown",
   "metadata": {},
   "source": [
    "## LeetCode 1290: Convert Binary Number in a Linked List to Integer\n",
    "https://leetcode.com/problems/convert-binary-number-in-a-linked-list-to-integer/"
   ]
  },
  {
   "cell_type": "code",
   "execution_count": 2,
   "metadata": {},
   "outputs": [],
   "source": [
    "def getDecimalValue(head):\n",
    "    nums = []\n",
    "    \n",
    "    if not head:\n",
    "        return 0\n",
    "    \n",
    "    while head:\n",
    "        nums.append(head.val)\n",
    "        head = head.next\n",
    "        \n",
    "    result = 0\n",
    "    j = len(nums) - 1\n",
    "    \n",
    "    for i in range(len(nums)):\n",
    "        if nums[i] != 0:\n",
    "            result += 2 ** j\n",
    "        j -= 1\n",
    "        \n",
    "    return result"
   ]
  },
  {
   "cell_type": "code",
   "execution_count": 3,
   "metadata": {},
   "outputs": [
    {
     "data": {
      "text/plain": [
       "5"
      ]
     },
     "execution_count": 3,
     "metadata": {},
     "output_type": "execute_result"
    }
   ],
   "source": [
    "head = ListNode(1)\n",
    "head.next = ListNode(0)\n",
    "head.next.next = ListNode(1)\n",
    "getDecimalValue(head)"
   ]
  },
  {
   "cell_type": "markdown",
   "metadata": {},
   "source": [
    "## LeetCode 21: Merge Two Sorted Lists\n",
    "https://leetcode.com/problems/merge-two-sorted-lists/?envType=study-plan&id=level-1"
   ]
  },
  {
   "cell_type": "markdown",
   "metadata": {},
   "source": [
    "<div>\n",
    "<img src=\"merge_list.jpg\", width = \"400\">\n",
    "</div>"
   ]
  },
  {
   "cell_type": "code",
   "execution_count": 4,
   "metadata": {},
   "outputs": [],
   "source": [
    "def mergeTwoLists(list1, list2):\n",
    "\n",
    "    prehead = ListNode(-1)\n",
    "    prev = prehead\n",
    "\n",
    "    while list1 and list2:\n",
    "        if list1.val <= list2.val:\n",
    "            prev.next = list1\n",
    "            list1 = list1.next\n",
    "\n",
    "        else:\n",
    "            prev.next = list2\n",
    "            list2 = list2.next\n",
    "        \n",
    "        prev = prev.next\n",
    "        print(prev.val)\n",
    "\n",
    "    # At least one of l1 and l2 can still have nodes at this point, so connect\n",
    "    # the non-null list to the end of the merged list.\n",
    "    if list1 is not None:\n",
    "        prev.next = list1\n",
    "    else:\n",
    "        prev.next = list2\n",
    "    return prehead.next"
   ]
  },
  {
   "cell_type": "code",
   "execution_count": 5,
   "metadata": {},
   "outputs": [
    {
     "name": "stdout",
     "output_type": "stream",
     "text": [
      "1\n",
      "1\n",
      "2\n",
      "3\n",
      "4\n"
     ]
    },
    {
     "data": {
      "text/plain": [
       "<__main__.ListNode at 0x7fbbb020e160>"
      ]
     },
     "execution_count": 5,
     "metadata": {},
     "output_type": "execute_result"
    }
   ],
   "source": [
    "list1 = ListNode(1)\n",
    "list1.next = ListNode(2)\n",
    "list1.next.next = ListNode(4)\n",
    "\n",
    "list2 = ListNode(1)\n",
    "list2.next = ListNode(3)\n",
    "list2.next.next = ListNode(4)\n",
    "\n",
    "mergeTwoLists(list1, list2)"
   ]
  },
  {
   "cell_type": "markdown",
   "metadata": {},
   "source": [
    "## LeetCode 83: Remove Duplicates from Sorted List\n",
    "https://leetcode.com/problems/remove-duplicates-from-sorted-list/"
   ]
  },
  {
   "cell_type": "code",
   "execution_count": 6,
   "metadata": {},
   "outputs": [],
   "source": [
    "def deleteDuplicates(head):\n",
    "    # curr is the instance of head.\n",
    "    # so if we update curr,\n",
    "    # then head is also updated.\n",
    "    # we're using curr just to iterate\n",
    "    # over each node of head.\n",
    "    current = head\n",
    "    \n",
    "    while current and current.next:\n",
    "        if current.val == current.next.val:\n",
    "            current.next = current.next.next\n",
    "        else:   \n",
    "            print(current.val)\n",
    "            current = current.next\n",
    "    print(current.val)\n",
    "    return head"
   ]
  },
  {
   "cell_type": "code",
   "execution_count": 7,
   "metadata": {},
   "outputs": [
    {
     "name": "stdout",
     "output_type": "stream",
     "text": [
      "1\n",
      "2\n"
     ]
    },
    {
     "data": {
      "text/plain": [
       "<__main__.ListNode at 0x7fbbb020e8e0>"
      ]
     },
     "execution_count": 7,
     "metadata": {},
     "output_type": "execute_result"
    }
   ],
   "source": [
    "head = ListNode(1)\n",
    "head.next = ListNode(1)\n",
    "head.next.next = ListNode(2)\n",
    "deleteDuplicates(head)"
   ]
  },
  {
   "cell_type": "code",
   "execution_count": 8,
   "metadata": {},
   "outputs": [
    {
     "name": "stdout",
     "output_type": "stream",
     "text": [
      "1\n",
      "2\n",
      "3\n"
     ]
    },
    {
     "data": {
      "text/plain": [
       "<__main__.ListNode at 0x7fbbb020ef40>"
      ]
     },
     "execution_count": 8,
     "metadata": {},
     "output_type": "execute_result"
    }
   ],
   "source": [
    "head = ListNode(1)\n",
    "head.next = ListNode(1)\n",
    "head.next.next = ListNode(2)\n",
    "head.next.next.next = ListNode(3)\n",
    "head.next.next.next.next = ListNode(3)\n",
    "deleteDuplicates(head)"
   ]
  },
  {
   "cell_type": "markdown",
   "metadata": {},
   "source": [
    "## LeetCode 142: Linked List Cycle 2\n",
    "https://leetcode.com/problems/linked-list-cycle-ii/"
   ]
  },
  {
   "cell_type": "code",
   "execution_count": 9,
   "metadata": {},
   "outputs": [],
   "source": [
    "def detectCylce(head):\n",
    "    records = []\n",
    "    \n",
    "    while head:\n",
    "        if head in records:\n",
    "            print(head.val)\n",
    "            return head\n",
    "        records.append(head)\n",
    "        print(head.val)\n",
    "        head = head.next\n",
    "    return None"
   ]
  },
  {
   "cell_type": "code",
   "execution_count": 10,
   "metadata": {},
   "outputs": [
    {
     "name": "stdout",
     "output_type": "stream",
     "text": [
      "3\n",
      "2\n",
      "0\n",
      "-4\n",
      "2\n",
      "0\n",
      "-4\n"
     ]
    }
   ],
   "source": [
    "head = ListNode(3)\n",
    "head.next = ListNode(2)\n",
    "head.next.next = ListNode(0)\n",
    "head.next.next.next = ListNode(-4)\n",
    "head.next.next.next.next = ListNode(2)\n",
    "head.next.next.next.next.next = ListNode(0)\n",
    "head.next.next.next.next.next.next = ListNode(-4)\n",
    "\n",
    "detectCylce(head)"
   ]
  },
  {
   "cell_type": "markdown",
   "metadata": {},
   "source": [
    "## LeetCode 206: Reversed Linked List\n",
    "https://leetcode.com/problems/linked-list-cycle-ii/"
   ]
  },
  {
   "cell_type": "markdown",
   "metadata": {},
   "source": [
    "<div>\n",
    "<img src=\"reverse.jpg\", width = \"400\">\n",
    "</div>"
   ]
  },
  {
   "cell_type": "code",
   "execution_count": 11,
   "metadata": {},
   "outputs": [],
   "source": [
    "def reverseList(head):\n",
    "    # the end of reversed linked list\n",
    "    # should be none.\n",
    "    \n",
    "    prev = None\n",
    "    curr = head\n",
    "    \n",
    "    while curr:\n",
    "        # save the next node on variable\n",
    "        temp = curr.next\n",
    "        \n",
    "        # curr pointing to previous node\n",
    "        curr.next = prev\n",
    "        \n",
    "        # now current node becomes previous one.\n",
    "        prev = curr\n",
    "        \n",
    "        # and current node becomes the next temporary node.\n",
    "        curr = temp\n",
    "    \n",
    "    return prev"
   ]
  },
  {
   "cell_type": "code",
   "execution_count": 12,
   "metadata": {},
   "outputs": [
    {
     "data": {
      "text/plain": [
       "<__main__.ListNode at 0x7fbbb021f040>"
      ]
     },
     "execution_count": 12,
     "metadata": {},
     "output_type": "execute_result"
    }
   ],
   "source": [
    "head = ListNode(1)\n",
    "head.next = ListNode(2)\n",
    "head.next.next = ListNode(3)\n",
    "head.next.next.next = ListNode(4)\n",
    "head.next.next.next.next = ListNode(5)\n",
    "\n",
    "reverseList(head)"
   ]
  },
  {
   "cell_type": "markdown",
   "metadata": {},
   "source": [
    "## LeetCode 234: Palindrome Linked List\n",
    "https://leetcode.com/problems/linked-list-cycle-ii/"
   ]
  },
  {
   "cell_type": "code",
   "execution_count": 13,
   "metadata": {},
   "outputs": [],
   "source": [
    "def isPalindrome(head):\n",
    "    nums = []\n",
    "    \n",
    "    while head:\n",
    "        nums.append(head.val)\n",
    "        head = head.next\n",
    "        \n",
    "    return nums == nums[::-1]"
   ]
  },
  {
   "cell_type": "code",
   "execution_count": 14,
   "metadata": {},
   "outputs": [
    {
     "data": {
      "text/plain": [
       "True"
      ]
     },
     "execution_count": 14,
     "metadata": {},
     "output_type": "execute_result"
    }
   ],
   "source": [
    "head = ListNode(1)\n",
    "head.next = ListNode(2)\n",
    "head.next.next = ListNode(2)\n",
    "head.next.next.next = ListNode(1)\n",
    "\n",
    "isPalindrome(head)"
   ]
  },
  {
   "cell_type": "code",
   "execution_count": 15,
   "metadata": {},
   "outputs": [
    {
     "data": {
      "text/plain": [
       "False"
      ]
     },
     "execution_count": 15,
     "metadata": {},
     "output_type": "execute_result"
    }
   ],
   "source": [
    "head = ListNode(1)\n",
    "head.next = ListNode(2)\n",
    "isPalindrome(head)"
   ]
  },
  {
   "cell_type": "markdown",
   "metadata": {},
   "source": [
    "## LeetCode 876: Middle of the Linked List\n",
    "https://leetcode.com/problems/middle-of-the-linked-list/"
   ]
  },
  {
   "cell_type": "code",
   "execution_count": 16,
   "metadata": {},
   "outputs": [],
   "source": [
    "def middleNode(head):\n",
    "    curr = head\n",
    "    count = 0\n",
    "    \n",
    "    while curr:\n",
    "        count += 1\n",
    "        curr = curr.next\n",
    "        \n",
    "    curr = head\n",
    "    target = count // 2\n",
    "    \n",
    "    for i in range(count):\n",
    "        if i != target:\n",
    "            curr = curr.next\n",
    "            \n",
    "        else:\n",
    "            return curr"
   ]
  },
  {
   "cell_type": "code",
   "execution_count": 17,
   "metadata": {},
   "outputs": [
    {
     "data": {
      "text/plain": [
       "<__main__.ListNode at 0x7fbbb021f640>"
      ]
     },
     "execution_count": 17,
     "metadata": {},
     "output_type": "execute_result"
    }
   ],
   "source": [
    "head = ListNode(1)\n",
    "head.next = ListNode(2)\n",
    "head.next.next = ListNode(3)\n",
    "head.next.next.next = ListNode(4)\n",
    "head.next.next.next.next = ListNode(5)\n",
    "\n",
    "middleNode(head)"
   ]
  },
  {
   "cell_type": "markdown",
   "metadata": {},
   "source": [
    "## LeetCode 328: Odd Even Linked List\n",
    "https://leetcode.com/problems/middle-of-the-linked-list/"
   ]
  },
  {
   "cell_type": "code",
   "execution_count": 18,
   "metadata": {},
   "outputs": [],
   "source": [
    "def oddEvenList(head):\n",
    "    \n",
    "    odds = ListNode(0)\n",
    "    evens = ListNode(0)\n",
    "    \n",
    "    oddsHead = odds\n",
    "    evensHead = evens\n",
    "    isOdd = True\n",
    "    \n",
    "    while head:\n",
    "        if isOdd:\n",
    "            odds.next = head\n",
    "            odds = odds.next\n",
    "            \n",
    "        else:\n",
    "            evens.next = head\n",
    "            evens = evens.next\n",
    "            \n",
    "        head = head.next\n",
    "        isOdd = not isOdd\n",
    "        \n",
    "    evens.next = None\n",
    "    odds.next = evensHead.next\n",
    "    \n",
    "    return oddsHead.next"
   ]
  },
  {
   "cell_type": "markdown",
   "metadata": {},
   "source": [
    "## LeetCode 1474: Delete N Nodes After M Nodes of a Linked List\n",
    "https://leetcode.com/problems/delete-n-nodes-after-m-nodes-of-a-linked-list/"
   ]
  },
  {
   "cell_type": "code",
   "execution_count": 19,
   "metadata": {},
   "outputs": [],
   "source": [
    "def deleteNodes(head, m, n):\n",
    "    if not head:\n",
    "        return head\n",
    "\n",
    "    curr = ListNode(None)\n",
    "    curr.next = head\n",
    "    m_count = 0\n",
    "\n",
    "    while head:\n",
    "        if m_count < m-1:\n",
    "            m_count += 1\n",
    "        else:          \n",
    "            n_count = 0\n",
    "            while n_count < n and head.next:\n",
    "                head.next = head.next.next\n",
    "                n_count += 1\n",
    "            m_count = 0\n",
    "            \n",
    "        print(head.val)\n",
    "        head = head.next\n",
    "\n",
    "    return curr.next"
   ]
  },
  {
   "cell_type": "code",
   "execution_count": 20,
   "metadata": {},
   "outputs": [
    {
     "name": "stdout",
     "output_type": "stream",
     "text": [
      "1\n",
      "2\n",
      "6\n",
      "7\n",
      "11\n",
      "12\n"
     ]
    },
    {
     "data": {
      "text/plain": [
       "<__main__.ListNode at 0x7fbbb01be5b0>"
      ]
     },
     "execution_count": 20,
     "metadata": {},
     "output_type": "execute_result"
    }
   ],
   "source": [
    "head = ListNode(1)\n",
    "head.next = ListNode(2)\n",
    "head.next.next = ListNode(3)\n",
    "head.next.next.next = ListNode(4)\n",
    "head.next.next.next.next = ListNode(5)\n",
    "head.next.next.next.next.next = ListNode(6)\n",
    "head.next.next.next.next.next.next = ListNode(7)\n",
    "head.next.next.next.next.next.next.next = ListNode(8)\n",
    "head.next.next.next.next.next.next.next.next = ListNode(9)\n",
    "head.next.next.next.next.next.next.next.next.next = ListNode(10)\n",
    "head.next.next.next.next.next.next.next.next.next.next = ListNode(11)\n",
    "head.next.next.next.next.next.next.next.next.next.next.next = ListNode(12)\n",
    "head.next.next.next.next.next.next.next.next.next.next.next.next = ListNode(13)\n",
    "\n",
    "deleteNodes(head, 2, 3)"
   ]
  },
  {
   "cell_type": "code",
   "execution_count": 21,
   "metadata": {},
   "outputs": [
    {
     "name": "stdout",
     "output_type": "stream",
     "text": [
      "1\n",
      "5\n",
      "9\n"
     ]
    },
    {
     "data": {
      "text/plain": [
       "<__main__.ListNode at 0x7fbbb01b51f0>"
      ]
     },
     "execution_count": 21,
     "metadata": {},
     "output_type": "execute_result"
    }
   ],
   "source": [
    "head = ListNode(1)\n",
    "head.next = ListNode(2)\n",
    "head.next.next = ListNode(3)\n",
    "head.next.next.next = ListNode(4)\n",
    "head.next.next.next.next = ListNode(5)\n",
    "head.next.next.next.next.next = ListNode(6)\n",
    "head.next.next.next.next.next.next = ListNode(7)\n",
    "head.next.next.next.next.next.next.next = ListNode(8)\n",
    "head.next.next.next.next.next.next.next.next = ListNode(9)\n",
    "head.next.next.next.next.next.next.next.next.next = ListNode(10)\n",
    "head.next.next.next.next.next.next.next.next.next.next = ListNode(11)\n",
    "\n",
    "deleteNodes(head, 1, 3)"
   ]
  },
  {
   "cell_type": "markdown",
   "metadata": {},
   "source": [
    "## LeetCode 148: Sort List\n",
    "https://leetcode.com/problems/sort-list/?envType=study-plan&id=level-2"
   ]
  },
  {
   "cell_type": "code",
   "execution_count": null,
   "metadata": {},
   "outputs": [],
   "source": []
  },
  {
   "cell_type": "code",
   "execution_count": null,
   "metadata": {},
   "outputs": [],
   "source": []
  },
  {
   "cell_type": "markdown",
   "metadata": {},
   "source": [
    "## LeetCode 160: Intersection of Two Linked List\n",
    "https://leetcode.com/problems/intersection-of-two-linked-lists/"
   ]
  },
  {
   "cell_type": "code",
   "execution_count": 22,
   "metadata": {},
   "outputs": [],
   "source": [
    "def getIntersectionNode(headA, headB):\n",
    "    if not headA or not headB:\n",
    "        return None\n",
    "    \n",
    "    heads_in_B = set()\n",
    "    \n",
    "    # Traverse list B and store the address/reference of each node in a hash table. \n",
    "    while headB:\n",
    "        heads_in_B.add(headB)\n",
    "        headB = headB.next\n",
    "        \n",
    "    while headA:\n",
    "        if headA in heads_in_B:\n",
    "            print(headA.val)\n",
    "            return headA\n",
    "        headA = headA.next\n",
    "        \n",
    "    return None"
   ]
  },
  {
   "cell_type": "code",
   "execution_count": 23,
   "metadata": {},
   "outputs": [],
   "source": [
    "headA = ListNode(4)\n",
    "headA.next = ListNode(1)\n",
    "headA.next.next = ListNode(8)\n",
    "headA.next.next.next = ListNode(4)\n",
    "headA.next.next.next.next = ListNode(5)"
   ]
  },
  {
   "cell_type": "code",
   "execution_count": 24,
   "metadata": {},
   "outputs": [],
   "source": [
    "headB = ListNode(5)\n",
    "headB.next = ListNode(6)\n",
    "headB.next.next = ListNode(1)\n",
    "headB.next.next.next = ListNode(8)\n",
    "headB.next.next.next.next = ListNode(4)\n",
    "headB.next.next.next.next.next = ListNode(5)"
   ]
  },
  {
   "cell_type": "code",
   "execution_count": 25,
   "metadata": {},
   "outputs": [],
   "source": [
    "getIntersectionNode(headA, headB)"
   ]
  },
  {
   "cell_type": "code",
   "execution_count": 26,
   "metadata": {},
   "outputs": [],
   "source": [
    "headA = ListNode(1)\n",
    "headA.next = ListNode(9)\n",
    "headA.next.next = ListNode(1)\n",
    "headA.next.next.next = ListNode(2)\n",
    "headA.next.next.next.next = ListNode(4)"
   ]
  },
  {
   "cell_type": "code",
   "execution_count": 27,
   "metadata": {},
   "outputs": [],
   "source": [
    "headB = ListNode(3)\n",
    "headB.next = ListNode(2)\n",
    "headB.next.next = ListNode(4)"
   ]
  },
  {
   "cell_type": "code",
   "execution_count": 28,
   "metadata": {},
   "outputs": [],
   "source": [
    "getIntersectionNode(headA, headB)"
   ]
  },
  {
   "cell_type": "markdown",
   "metadata": {},
   "source": [
    "## LeetCode 203: Remove Linked List Elements\n",
    "https://leetcode.com/problems/remove-linked-list-elements/"
   ]
  },
  {
   "cell_type": "markdown",
   "metadata": {},
   "source": [
    "<div>\n",
    "<img src=\"remove_elements.jpg\", width = \"400\">\n",
    "</div>"
   ]
  },
  {
   "cell_type": "code",
   "execution_count": 29,
   "metadata": {},
   "outputs": [],
   "source": [
    "def removeElements(head, val):\n",
    "    if not head:\n",
    "        return None\n",
    "    \n",
    "    dummy = ListNode(0)\n",
    "    dummy.next = head\n",
    "    \n",
    "    # if we iterate through curr and reach the end,\n",
    "    # there is no way we can return the ListNodes.\n",
    "    # Therefore, we have to copy dummy and return it later.\n",
    "    curr = dummy\n",
    "    \n",
    "    \n",
    "    while curr.next:\n",
    "        if curr.next.val == val:\n",
    "            curr.next = curr.next.next\n",
    "            \n",
    "        else:\n",
    "            curr = curr.next\n",
    "            print(curr.val)\n",
    "            \n",
    "    return dummy.next"
   ]
  },
  {
   "cell_type": "code",
   "execution_count": 30,
   "metadata": {},
   "outputs": [
    {
     "name": "stdout",
     "output_type": "stream",
     "text": [
      "1\n",
      "2\n",
      "3\n",
      "4\n",
      "5\n"
     ]
    },
    {
     "data": {
      "text/plain": [
       "<__main__.ListNode at 0x7fbbb0245640>"
      ]
     },
     "execution_count": 30,
     "metadata": {},
     "output_type": "execute_result"
    }
   ],
   "source": [
    "head = ListNode(1)\n",
    "head.next = ListNode(2)\n",
    "head.next.next = ListNode(6)\n",
    "head.next.next.next = ListNode(3)\n",
    "head.next.next.next.next = ListNode(4)\n",
    "head.next.next.next.next.next = ListNode(5)\n",
    "head.next.next.next.next.next.next = ListNode(6)\n",
    "removeElements(head, 6)"
   ]
  },
  {
   "cell_type": "code",
   "execution_count": 31,
   "metadata": {},
   "outputs": [],
   "source": [
    "head = ListNode(7)\n",
    "head.next = ListNode(7)\n",
    "head.next.next = ListNode(7)\n",
    "head.next.next.next = ListNode(7)\n",
    "removeElements(head, 7)"
   ]
  },
  {
   "cell_type": "code",
   "execution_count": null,
   "metadata": {},
   "outputs": [],
   "source": []
  }
 ],
 "metadata": {
  "kernelspec": {
   "display_name": "Python 3",
   "language": "python",
   "name": "python3"
  },
  "language_info": {
   "codemirror_mode": {
    "name": "ipython",
    "version": 3
   },
   "file_extension": ".py",
   "mimetype": "text/x-python",
   "name": "python",
   "nbconvert_exporter": "python",
   "pygments_lexer": "ipython3",
   "version": "3.8.8"
  }
 },
 "nbformat": 4,
 "nbformat_minor": 4
}
